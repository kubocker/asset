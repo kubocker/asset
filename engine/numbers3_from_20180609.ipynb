{
 "cells": [
  {
   "cell_type": "markdown",
   "metadata": {},
   "source": [
    "## インポート"
   ]
  },
  {
   "cell_type": "code",
   "execution_count": 31,
   "metadata": {},
   "outputs": [
    {
     "name": "stdout",
     "output_type": "stream",
     "text": [
      "The autoreload extension is already loaded. To reload it, use:\n",
      "  %reload_ext autoreload\n"
     ]
    }
   ],
   "source": [
    "from config import NUMBERS, NUMBERS3, NUMBERS4, NUMBERS3_RESULT, NUMBERS4_RESULT\n",
    "import sys\n",
    "import re\n",
    "import difflib\n",
    "import matplotlib\n",
    "import matplotlib.pyplot as plt\n",
    "import pandas as pd\n",
    "import numpy as np\n",
    "import seaborn as sns\n",
    "from sklearn import linear_model\n",
    "from sklearn.metrics import (mean_absolute_error,\n",
    "                             mean_squared_error,\n",
    "                             r2_score)\n",
    "from sklearn.model_selection import train_test_split\n",
    "from sklearn.externals import joblib\n",
    "\n",
    "plt.rcParams['font.family'] = 'AppleGothic'\n",
    "\n",
    "%load_ext autoreload\n",
    "%autoreload 2"
   ]
  },
  {
   "cell_type": "markdown",
   "metadata": {},
   "source": [
    "##### 調査 その1"
   ]
  },
  {
   "cell_type": "code",
   "execution_count": 59,
   "metadata": {},
   "outputs": [
    {
     "data": {
      "text/plain": [
       "<matplotlib.axes._subplots.AxesSubplot at 0x10eaa98d0>"
      ]
     },
     "execution_count": 59,
     "metadata": {},
     "output_type": "execute_result"
    },
    {
     "data": {
      "image/png": "[encoded data removed]",
      "text/plain": [
       "<Figure size 1440x864 with 1 Axes>"
      ]
     },
     "metadata": {},
     "output_type": "display_data"
    }
   ],
   "source": [
    "X = []\n",
    "Y = []\n",
    "Z = []\n",
    "key_0 = 0\n",
    "key_1 = 0\n",
    "key_2 = 0\n",
    "key_3 = 0\n",
    "key_4 = 0\n",
    "key_5 = 0\n",
    "key_6  = 0 #  赤口\n",
    "key_7  = 0 #  仏滅\n",
    "key_8  = 0 #  友引\n",
    "key_9  = 0 #  先勝\n",
    "key_10 = 0 #  先負\n",
    "key_11 = 0 #  大安\n",
    "\n",
    "for _i in range(len(NUMBERS)):\n",
    "    _time = NUMBERS[_i][0]\n",
    "    _y = NUMBERS[_i][2]\n",
    "    _x = NUMBERS3[_i][_time]\n",
    "    _z = NUMBERS[_i][4]\n",
    "    for _k, _v in enumerate(_x):\n",
    "        if len(list(set(_y) & set(_v))) >= 3:\n",
    "        #if len(list(set(_y) & set(_v))) >= 3 and _z == \"赤口\":\n",
    "            if _k == 0:\n",
    "                key_0 += 1\n",
    "            elif _k == 1:\n",
    "                key_1 += 1\n",
    "            elif _k == 2:\n",
    "                key_2 += 1\n",
    "            elif _k == 3:\n",
    "                key_3 += 1\n",
    "            elif _k == 4:\n",
    "                key_4 += 1\n",
    "            elif _k == 5:\n",
    "                key_5 += 1\n",
    "                \n",
    "            if _z == \"赤口\":\n",
    "                key_6 += 1\n",
    "            elif _z == \"仏滅\":\n",
    "                key_7 += 1\n",
    "            elif _z == \"友引\":\n",
    "                key_8 += 1\n",
    "            elif _z == \"先勝\":\n",
    "                key_9 += 1\n",
    "            elif _z == \"先負\":\n",
    "                key_10 += 1\n",
    "            elif _z == \"大安\":\n",
    "                key_11 += 1\n",
    "            \n",
    "            \n",
    "            _format = \"{0}回 {1}:{2}({3}) [{4}]\".format(_time, _y, _x[_k], _k, _z)\n",
    "            # print(_time, _y, _v)\n",
    "            # print(_format)\n",
    "            pass\n",
    "_sum     = sum([key_0, key_1, key_2, key_3, key_4, key_5])\n",
    "_format1 = \"前回:{0}個, 前々回:{1}個, 前回曜日:{2}個, 前々回曜日:{3}個, 前回六曜:{4}個, 前々回六曜:{5}個\".format(key_0, key_1, key_2, key_3, key_4, key_5)\n",
    "_format2 = \"赤口:{0}個, 仏滅:{1}個, 友引:{2}個 先勝:{3}個, 先負:{4}個, 大安:{5}個\".format(key_6, key_7, key_8, key_9, key_10, key_11)\n",
    "\n",
    "data = {\n",
    "    \"base\": [key_0, key_1, key_2, key_3, key_4, key_5],\n",
    "    \"old_week\": [key_6, key_7, key_8, key_9, key_10, key_11]\n",
    "}\n",
    "_data = pd.DataFrame(data)\n",
    "\n",
    "# sns.countplot(x=\"old_week\", data=_data)\n"
   ]
  },
  {
   "cell_type": "markdown",
   "metadata": {},
   "source": [
    "### 1. 前回のナンバーを特徴量とする"
   ]
  },
  {
   "cell_type": "code",
   "execution_count": 2,
   "metadata": {},
   "outputs": [],
   "source": [
    "X = []\n",
    "Y = []\n",
    "for _i in range(len(NUMBERS)):\n",
    "    _time = NUMBERS[_i][0]\n",
    "    _y = NUMBERS[_i][2]\n",
    "    _x = NUMBERS3[_i][_time][0]\n",
    "    if len(list(set(_y) & set(_x))) >= 3:\n",
    "        #print(\"{0} -> {1}:{2}\".format(_time, _y, _x))\n",
    "        Y.append(_y)\n",
    "        X.append([_x])"
   ]
  },
  {
   "cell_type": "markdown",
   "metadata": {},
   "source": [
    "### 2. 前回の六曜のナンバーを特徴量とする"
   ]
  },
  {
   "cell_type": "code",
   "execution_count": 33,
   "metadata": {},
   "outputs": [],
   "source": [
    "X = []\n",
    "Y = []\n",
    "TIME = []\n",
    "for _i in range(len(NUMBERS)):\n",
    "    _time = NUMBERS[_i][0]\n",
    "    _y = NUMBERS[_i][2]\n",
    "    _x = NUMBERS3[_i][_time][4]\n",
    "    if len(list(set(_y) & set(_x))) >= 3:\n",
    "        # print(\"{0} -> {1}:{2}\".format(_time, _y, _x))\n",
    "        Y.append(_y)\n",
    "        X.append([_x])\n",
    "        TIME.append(_time)"
   ]
  },
  {
   "cell_type": "markdown",
   "metadata": {},
   "source": [
    "### 3. 前回のナンバーと前回の六曜のナンバーを特徴量とする"
   ]
  },
  {
   "cell_type": "code",
   "execution_count": 93,
   "metadata": {},
   "outputs": [],
   "source": [
    "X = []\n",
    "Y = []\n",
    "TIME = []\n",
    "for _i in range(len(NUMBERS)):\n",
    "    _time = NUMBERS[_i][0]\n",
    "    _y = NUMBERS[_i][2]\n",
    "    _x1 = NUMBERS3[_i][_time][4]\n",
    "    _x2 = NUMBERS3[_i][_time][0]\n",
    "    if len(list(set(_y) & set(_x1))) >= 2 or len(list(set(_y) & set(_x2))) >= 2:\n",
    "        Y.append(_y)\n",
    "        X.append([_x1, _x2])\n",
    "        TIME.append(_time)"
   ]
  },
  {
   "cell_type": "markdown",
   "metadata": {},
   "source": [
    "### 4. 抽選数を特徴量とする"
   ]
  },
  {
   "cell_type": "code",
   "execution_count": 14,
   "metadata": {},
   "outputs": [],
   "source": [
    "X = []\n",
    "Y = []\n",
    "TIME = []\n",
    "for _i in range(len(NUMBERS3_RESULT)):\n",
    "    _time = NUMBERS[_i][0]\n",
    "    _y = NUMBERS[_i][2]\n",
    "    _x = NUMBERS3_RESULT[_i][_time]\n",
    "    Y.append(_y)\n",
    "    X.append(_x)\n",
    "    TIME.append(_time)"
   ]
  },
  {
   "cell_type": "markdown",
   "metadata": {},
   "source": [
    "### 5. 特徴量\n",
    "```\n",
    "- 前々回\n",
    "- 前回曜日\n",
    "- 前々回曜日\n",
    "```"
   ]
  },
  {
   "cell_type": "code",
   "execution_count": 18,
   "metadata": {},
   "outputs": [],
   "source": [
    "X = []\n",
    "Y = []\n",
    "TIME = []\n",
    "for _i in range(len(NUMBERS)):\n",
    "    _time = NUMBERS[_i][0]\n",
    "    _y = NUMBERS[_i][2]\n",
    "    _x1 = NUMBERS3[_i][_time][1]\n",
    "    _x2 = NUMBERS3[_i][_time][2]\n",
    "    _x3 = NUMBERS3[_i][_time][3]\n",
    "    _z = NUMBERS[_i][4]\n",
    "    if len(list(set(_y) & set(_x1))) >= 2 or len(list(set(_y) & set(_x2))) >= 2:\n",
    "    # if len(list(set(_y) & set(_x1))) >= 3 or len(list(set(_y) & set(_x2))) >= 3 and _z == \"先負\":\n",
    "        Y.append(_y)\n",
    "        X.append([_x1, _x2, _x3])\n",
    "        TIME.append(_time)\n",
    "        pass\n",
    "    #Y.append(_y)\n",
    "    #X.append([_x1, _x2, _x3])\n",
    "    #TIME.append(_time)"
   ]
  },
  {
   "cell_type": "markdown",
   "metadata": {},
   "source": [
    "#### 予測スタート"
   ]
  },
  {
   "cell_type": "code",
   "execution_count": 19,
   "metadata": {},
   "outputs": [],
   "source": [
    "y = pd.DataFrame(Y)\n",
    "x = pd.DataFrame(X)"
   ]
  },
  {
   "cell_type": "code",
   "execution_count": 20,
   "metadata": {},
   "outputs": [
    {
     "data": {
      "text/plain": [
       "273"
      ]
     },
     "execution_count": 20,
     "metadata": {},
     "output_type": "execute_result"
    }
   ],
   "source": [
    "len(y)"
   ]
  },
  {
   "cell_type": "code",
   "execution_count": 21,
   "metadata": {},
   "outputs": [
    {
     "data": {
      "text/plain": [
       "LinearRegression(copy_X=True, fit_intercept=True, n_jobs=1, normalize=False)"
      ]
     },
     "execution_count": 21,
     "metadata": {},
     "output_type": "execute_result"
    }
   ],
   "source": [
    "model = linear_model.LinearRegression()\n",
    "model.fit(X, Y)"
   ]
  },
  {
   "cell_type": "code",
   "execution_count": 22,
   "metadata": {},
   "outputs": [],
   "source": [
    "px = x\n",
    "py = model.predict(px)"
   ]
  },
  {
   "cell_type": "code",
   "execution_count": 23,
   "metadata": {},
   "outputs": [
    {
     "name": "stdout",
     "output_type": "stream",
     "text": [
      "4905 936 619.5219564530325\n",
      "4892 352 502.2615259423083\n",
      "4833 413 514.7302339244511\n",
      "4826 842 472.902754204365\n",
      "4809 218 581.6057280278916\n",
      "4800 794 498.81921972488095\n",
      "4783 023 520.6700829404547\n",
      "4731 105 503.1398428885915\n",
      "4680 037 507.6173077046952\n",
      "4670 039 493.0525570425366\n",
      "4657 459 554.766726826806\n",
      "4628 619 491.789029854201\n",
      "4627 546 456.8001275132877\n",
      "4417 256 521.5249733869581\n",
      "4412 642 496.5667983978759\n",
      "4369 457 456.13982966375806\n",
      "4348 250 501.16937673659237\n",
      "4338 147 477.5313637879246\n",
      "4322 725 522.082673895799\n",
      "4257 504 500.40726418640975\n",
      "4230 549 554.465552692491\n",
      "4211 507 550.8585801782951\n",
      "4123 675 516.5086414456096\n",
      "4094 751 513.7882707633345\n",
      "4082 845 528.4455647662613\n",
      "4044 853 548.6023084392606\n",
      "3989 065 504.82426752776564\n",
      "3988 745 504.7920055167136\n",
      "3944 764 479.448628708402\n",
      "3943 940 492.43161333482044\n",
      "3923 583 581.9121035526815\n",
      "3899 468 481.47529729912145\n",
      "3896 474 497.7505998592363\n",
      "3873 589 586.7185666774587\n",
      "3861 295 559.5041487984397\n"
     ]
    }
   ],
   "source": [
    "for _i in range(len(py)):\n",
    "    _py = str(int(py[_i]))\n",
    "    for _k, _v in enumerate(NUMBERS):\n",
    "        if _v[0] == TIME[_i]:\n",
    "            if len(list(set(_v[2]) & set(_py))) >= 2:\n",
    "                print(TIME[_i], _v[2], py[_i])\n",
    "                pass\n",
    "            # print(TIME[_i], _v[2], py[_i])"
   ]
  },
  {
   "cell_type": "markdown",
   "metadata": {},
   "source": [
    "## 決定係数"
   ]
  },
  {
   "cell_type": "code",
   "execution_count": 24,
   "metadata": {},
   "outputs": [
    {
     "data": {
      "text/plain": [
       "0.023040881647652944"
      ]
     },
     "execution_count": 24,
     "metadata": {},
     "output_type": "execute_result"
    }
   ],
   "source": [
    "r2_score(y, py)"
   ]
  },
  {
   "cell_type": "code",
   "execution_count": 25,
   "metadata": {},
   "outputs": [
    {
     "data": {
      "text/plain": [
       "0.023040881647652944"
      ]
     },
     "execution_count": 25,
     "metadata": {},
     "output_type": "execute_result"
    }
   ],
   "source": [
    "model.score(x, y)"
   ]
  },
  {
   "cell_type": "code",
   "execution_count": 26,
   "metadata": {},
   "outputs": [
    {
     "data": {
      "text/plain": [
       "0.09686562914658062"
      ]
     },
     "execution_count": 26,
     "metadata": {},
     "output_type": "execute_result"
    }
   ],
   "source": [
    "model.coef_[0]"
   ]
  },
  {
   "cell_type": "markdown",
   "metadata": {},
   "source": [
    "## 予測"
   ]
  },
  {
   "cell_type": "code",
   "execution_count": 27,
   "metadata": {},
   "outputs": [],
   "source": [
    "pkl_file = \"numbers3_20180616.pkl\""
   ]
  },
  {
   "cell_type": "markdown",
   "metadata": {},
   "source": [
    "#### 前回のナンバーと前回六曜のナンバー"
   ]
  },
  {
   "cell_type": "code",
   "execution_count": 12,
   "metadata": {},
   "outputs": [],
   "source": [
    "data = [float(\"765\"), float(\"642\")] # 20180616"
   ]
  },
  {
   "cell_type": "markdown",
   "metadata": {},
   "source": [
    "##### 前々回のナンバー, 前回曜日のナンバー, 前々回の曜日ナンバー"
   ]
  },
  {
   "cell_type": "code",
   "execution_count": 28,
   "metadata": {},
   "outputs": [],
   "source": [
    "data = [float(\"487\"), float(\"413\"), float(\"173\")] # 20180616"
   ]
  },
  {
   "cell_type": "markdown",
   "metadata": {},
   "source": [
    "##### 抽選数"
   ]
  },
  {
   "cell_type": "code",
   "execution_count": 37,
   "metadata": {},
   "outputs": [
    {
     "name": "stdout",
     "output_type": "stream",
     "text": [
      "80 447 186 817\n"
     ]
    }
   ],
   "source": [
    "from statistics import mean, median,variance,stdev\n",
    "\n",
    "X0 = []\n",
    "X1 = []\n",
    "X2 = []\n",
    "X3 = []\n",
    "for _i in range(len(NUMBERS3_RESULT)):\n",
    "    _time = NUMBERS[_i][0]\n",
    "    _y = NUMBERS[_i][2]\n",
    "    _x0 = NUMBERS3_RESULT[_i][_time][0]\n",
    "    _x1 = NUMBERS3_RESULT[_i][_time][1]\n",
    "    _x2 = NUMBERS3_RESULT[_i][_time][2]\n",
    "    _x3 = NUMBERS3_RESULT[_i][_time][3]\n",
    "    X0.append(int(_x0))\n",
    "    X1.append(int(_x1))\n",
    "    X2.append(int(_x2))\n",
    "    X3.append(int(_x3))\n",
    "    \n",
    "\n",
    "x0 = int(mean(X0))\n",
    "x1 = int(mean(X1))\n",
    "x2 = int(mean(X2))\n",
    "x3 = int(mean(X3))\n",
    "print(x0, x1, x2, x3)\n",
    "\n",
    "# 20180616\n",
    "data = [float(\"1\"), float(\"1\"), float(\"1\"), float(\"1\")]\n",
    "# data = [float(str(x0)), float(str(x1)), float(str(x2)), float(str(x3))]"
   ]
  },
  {
   "cell_type": "code",
   "execution_count": 29,
   "metadata": {},
   "outputs": [
    {
     "data": {
      "text/plain": [
       "['numbers3_20180616.pkl']"
      ]
     },
     "execution_count": 29,
     "metadata": {},
     "output_type": "execute_result"
    }
   ],
   "source": [
    "joblib.dump(model, pkl_file)"
   ]
  },
  {
   "cell_type": "code",
   "execution_count": 30,
   "metadata": {},
   "outputs": [],
   "source": [
    "clf = joblib.load(pkl_file)"
   ]
  },
  {
   "cell_type": "code",
   "execution_count": 31,
   "metadata": {},
   "outputs": [],
   "source": [
    "processor = clf.predict([data])"
   ]
  },
  {
   "cell_type": "code",
   "execution_count": 32,
   "metadata": {},
   "outputs": [
    {
     "data": {
      "text/plain": [
       "array([506.33564009])"
      ]
     },
     "execution_count": 32,
     "metadata": {},
     "output_type": "execute_result"
    }
   ],
   "source": [
    "processor"
   ]
  },
  {
   "cell_type": "code",
   "execution_count": null,
   "metadata": {},
   "outputs": [],
   "source": []
  }
 ],
 "metadata": {
  "kernelspec": {
   "display_name": "Python 3",
   "language": "python",
   "name": "python3"
  },
  "language_info": {
   "codemirror_mode": {
    "name": "ipython",
    "version": 3
   },
   "file_extension": ".py",
   "mimetype": "text/x-python",
   "name": "python",
   "nbconvert_exporter": "python",
   "pygments_lexer": "ipython3",
   "version": "3.6.2"
  }
 },
 "nbformat": 4,
 "nbformat_minor": 2
}
