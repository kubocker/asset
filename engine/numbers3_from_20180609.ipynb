{
 "cells": [
  {
   "cell_type": "markdown",
   "metadata": {},
   "source": [
    "## インポート"
   ]
  },
  {
   "cell_type": "code",
   "execution_count": 9,
   "metadata": {},
   "outputs": [
    {
     "name": "stdout",
     "output_type": "stream",
     "text": [
      "[0, 2, 3]\n",
      "The autoreload extension is already loaded. To reload it, use:\n",
      "  %reload_ext autoreload\n"
     ]
    }
   ],
   "source": [
    "from config import NUMBERS, NUMBERS3, NUMBERS4, NUMBERS3_RESULT, NUMBERS4_RESULT, NUMBERS3_VECTORS\n",
    "import utils\n",
    "\n",
    "import sys\n",
    "import re\n",
    "import difflib\n",
    "import matplotlib\n",
    "import matplotlib.pyplot as plt\n",
    "import pandas as pd\n",
    "import numpy as np\n",
    "import seaborn as sns\n",
    "from sklearn import linear_model\n",
    "from sklearn.metrics import (mean_absolute_error,\n",
    "                             mean_squared_error,\n",
    "                             r2_score)\n",
    "from sklearn.model_selection import train_test_split\n",
    "from sklearn.externals import joblib\n",
    "\n",
    "plt.rcParams['font.family'] = 'AppleGothic'\n",
    "\n",
    "name = \"赤口\"\n",
    "type  = \"+\"\n",
    "\n",
    "vec = utils.get_vectors(name, type, NUMBERS3_VECTORS)\n",
    "print(vec)\n",
    "\n",
    "%load_ext autoreload\n",
    "%autoreload 2"
   ]
  },
  {
   "cell_type": "markdown",
   "metadata": {},
   "source": [
    "##### 調査 その1"
   ]
  },
  {
   "cell_type": "code",
   "execution_count": 3,
   "metadata": {},
   "outputs": [
    {
     "name": "stdout",
     "output_type": "stream",
     "text": [
      "前回:18個, 前々回:28個, 前回曜日:27個, 前々回曜日:18個, 前回六曜:23個, 前々回六曜:20個\n",
      "赤口:0個, 仏滅:0個, 友引:0個 先勝:0個, 先負:134個, 大安:0個\n"
     ]
    }
   ],
   "source": [
    "X = []\n",
    "Y = []\n",
    "Z = []\n",
    "key_0 = 0\n",
    "key_1 = 0\n",
    "key_2 = 0\n",
    "key_3 = 0\n",
    "key_4 = 0\n",
    "key_5 = 0\n",
    "key_6  = 0 #  赤口\n",
    "key_7  = 0 #  仏滅\n",
    "key_8  = 0 #  友引\n",
    "key_9  = 0 #  先勝\n",
    "key_10 = 0 #  先負\n",
    "key_11 = 0 #  大安\n",
    "\n",
    "\"\"\"\n",
    "先勝・友引・先負・仏滅・大安・赤口\n",
    "\"\"\"\n",
    "for _i in range(len(NUMBERS)):\n",
    "    _time = NUMBERS[_i][0]\n",
    "    _y = NUMBERS[_i][2]\n",
    "    _x = NUMBERS3[_i][_time]\n",
    "    _z = NUMBERS[_i][4]\n",
    "    for _k, _v in enumerate(_x):\n",
    "        # if len(list(set(_y) & set(_v))) >= 2:\n",
    "        if len(list(set(_y) & set(_v))) >= 2 and _z == \"先負\":\n",
    "            if _k == 0:\n",
    "                key_0 += 1\n",
    "            elif _k == 1:\n",
    "                key_1 += 1\n",
    "            elif _k == 2:\n",
    "                key_2 += 1\n",
    "            elif _k == 3:\n",
    "                key_3 += 1\n",
    "            elif _k == 4:\n",
    "                key_4 += 1\n",
    "            elif _k == 5:\n",
    "                key_5 += 1\n",
    "                \n",
    "            if _z == \"赤口\":\n",
    "                key_6 += 1\n",
    "            elif _z == \"仏滅\":\n",
    "                key_7 += 1\n",
    "            elif _z == \"友引\":\n",
    "                key_8 += 1\n",
    "            elif _z == \"先勝\":\n",
    "                key_9 += 1\n",
    "            elif _z == \"先負\":\n",
    "                key_10 += 1\n",
    "            elif _z == \"大安\":\n",
    "                key_11 += 1\n",
    "            \n",
    "            \n",
    "            _format = \"{0}回 {1}:{2}({3}) [{4}]\".format(_time, _y, _x[_k], _k, _z)\n",
    "            # print(_time, _y, _v)\n",
    "            # print(_format)\n",
    "            pass\n",
    "_sum     = sum([key_0, key_1, key_2, key_3, key_4, key_5])\n",
    "_format1 = \"前回:{0}個, 前々回:{1}個, 前回曜日:{2}個, 前々回曜日:{3}個, 前回六曜:{4}個, 前々回六曜:{5}個\".format(key_0, key_1, key_2, key_3, key_4, key_5)\n",
    "_format2 = \"赤口:{0}個, 仏滅:{1}個, 友引:{2}個 先勝:{3}個, 先負:{4}個, 大安:{5}個\".format(key_6, key_7, key_8, key_9, key_10, key_11)\n",
    "\n",
    "data = {\n",
    "    \"base\": [key_0, key_1, key_2, key_3, key_4, key_5],\n",
    "    \"old_week\": [key_6, key_7, key_8, key_9, key_10, key_11]\n",
    "}\n",
    "_data = pd.DataFrame(data)\n",
    "print(_format1)\n",
    "print(_format2)\n",
    "\n",
    "# sns.countplot(x=\"old_week\", data=_data)\n"
   ]
  },
  {
   "cell_type": "code",
   "execution_count": 29,
   "metadata": {},
   "outputs": [
    {
     "data": {
      "text/plain": [
       "'\\n予測したものから、\\n(y, [x1, x2])\\nx1: 予測した数字\\nx2: 重複しなかった数字の合計\\n'"
      ]
     },
     "execution_count": 29,
     "metadata": {},
     "output_type": "execute_result"
    }
   ],
   "source": [
    "# 4941\n",
    "test = [\"193\", \"413\", \"557\", \"648\", \"653\", \"669\"] # 642 -> 464\n",
    "# 0 -> 0\n",
    "# 1 -> 2\n",
    "# 2 -> 0\n",
    "# 3 -> 2\n",
    "# 4 -> 2\n",
    "# 5 -> 3\n",
    "# 6 -> 3\n",
    "# 7 -> 1\n",
    "# 8 -> 1\n",
    "# 9 -> 2\n",
    "\n",
    "# 4931\n",
    "test = [\"797\", \"513\", \"393\", \"909\", \"496\", \"934\"] # 648 -> 480\n",
    "\n",
    "# 4927 \n",
    "test = [\"393\", \"531\", \"851\", \"402\", \"934\", \"604\"] # 496 -> 499\n",
    "\n",
    "# 4919 \n",
    "test = [\"003\", \"402\", \"299\", \"002\", \"909\", \"372\"] # 604 -> 466\n",
    "\n",
    "\"\"\"\n",
    "予測したものから、\n",
    "(y, [x1, x2])\n",
    "x1: 予測した数字\n",
    "x2: 重複しなかった数字の合計\n",
    "\"\"\""
   ]
  },
  {
   "cell_type": "markdown",
   "metadata": {},
   "source": [
    "### 調査2"
   ]
  },
  {
   "cell_type": "code",
   "execution_count": 19,
   "metadata": {},
   "outputs": [],
   "source": [
    "X = []\n",
    "Y = []\n",
    "Z = []\n",
    "LOCK = {}\n",
    "for _i in range(len(NUMBERS)):\n",
    "    _time = NUMBERS[_i][0]\n",
    "    _y = NUMBERS[_i][2]\n",
    "    _x = NUMBERS3[_i][_time]\n",
    "    lock = []\n",
    "    hook = []\n",
    "    key_0 = 0\n",
    "    key_1 = 0\n",
    "    key_2 = 0\n",
    "    key_3 = 0\n",
    "    key_4 = 0\n",
    "    key_5 = 0\n",
    "    key_6 = 0\n",
    "    key_7 = 0\n",
    "    key_8 = 0\n",
    "    key_9 = 0\n",
    "    for _n in _x:\n",
    "        if _time == _time:\n",
    "            _h = list(_n)\n",
    "            for _j in _h:\n",
    "                if _j == '0':\n",
    "                    key_0 += 1\n",
    "                elif _j == '1':\n",
    "                    key_1 += 1\n",
    "                elif _j == '2':\n",
    "                    key_2 += 1\n",
    "                elif _j == '3':\n",
    "                    key_3 += 1\n",
    "                elif _j == '4':\n",
    "                    key_4 += 1\n",
    "                elif _j == '5':\n",
    "                    key_5 += 1\n",
    "                elif _j == '6':\n",
    "                    key_6 += 1\n",
    "                elif _j == '7':\n",
    "                    key_7 += 1\n",
    "                elif _j == '8':\n",
    "                    key_8 += 1\n",
    "                elif _j == '9':\n",
    "                    key_9 += 1\n",
    "            lock.append(list(_n))\n",
    "    data = {\n",
    "        \"0\": str(int(key_0) + 1),\n",
    "        \"1\": str(int(key_1) + 1),\n",
    "        \"2\": str(int(key_2) + 1),\n",
    "        \"3\": str(int(key_3) + 1),\n",
    "        \"4\": str(int(key_4) + 1),\n",
    "        \"5\": str(int(key_5) + 1),\n",
    "        \"6\": str(int(key_6) + 1),\n",
    "        \"7\": str(int(key_7) + 1),\n",
    "        \"8\": str(int(key_8) + 1),\n",
    "        \"9\": str(int(key_9) + 1),\n",
    "    }\n",
    "    LOCK.update({ _time: [key_0, key_1, key_2, key_3, key_4, key_5, key_6, key_7, key_8, key_9]})\n",
    "    Z.append(data)\n",
    "    X.append(lock)\n",
    "    \n",
    "lock = pd.DataFrame(LOCK)"
   ]
  },
  {
   "cell_type": "markdown",
   "metadata": {},
   "source": [
    "##### 調査3"
   ]
  },
  {
   "cell_type": "code",
   "execution_count": null,
   "metadata": {},
   "outputs": [],
   "source": [
    "from statistics import mean, median,variance,stdev\n",
    "\n",
    "X0 = []\n",
    "X1 = []\n",
    "X2 = []\n",
    "X3 = []\n",
    "for _i in range(len(NUMBERS3_RESULT)):\n",
    "    _time = NUMBERS[_i][0]\n",
    "    _y = NUMBERS[_i][2]\n",
    "    _x0 = NUMBERS3_RESULT[_i][_time][0]\n",
    "    _x1 = NUMBERS3_RESULT[_i][_time][1]\n",
    "    _x2 = NUMBERS3_RESULT[_i][_time][2]\n",
    "    _x3 = NUMBERS3_RESULT[_i][_time][3]\n",
    "    X0.append(int(_x0))\n",
    "    X1.append(int(_x1))\n",
    "    X2.append(int(_x2))\n",
    "    X3.append(int(_x3))\n",
    "    \n",
    "\n",
    "x0 = int(mean(X0))\n",
    "x1 = int(mean(X1))\n",
    "x2 = int(mean(X2))\n",
    "x3 = int(mean(X3))\n",
    "print(x0, x1, x2, x3)\n",
    "\n",
    "data = [float(str(x0)), float(str(x1)), float(str(x2)), float(str(x3))]"
   ]
  },
  {
   "cell_type": "markdown",
   "metadata": {},
   "source": [
    "### 設定"
   ]
  },
  {
   "cell_type": "code",
   "execution_count": 11,
   "metadata": {},
   "outputs": [],
   "source": [
    "OLD_WEEK = \"仏滅\"\n",
    "TYPE            = \"+\""
   ]
  },
  {
   "cell_type": "markdown",
   "metadata": {},
   "source": [
    "#### 特徴量"
   ]
  },
  {
   "cell_type": "code",
   "execution_count": 13,
   "metadata": {},
   "outputs": [],
   "source": [
    "VEC = utils.get_vectors(OLD_WEEK, TYPE, NUMBERS3_VECTORS)"
   ]
  },
  {
   "cell_type": "markdown",
   "metadata": {},
   "source": [
    "#### セット"
   ]
  },
  {
   "cell_type": "code",
   "execution_count": 14,
   "metadata": {},
   "outputs": [],
   "source": [
    "X       = []\n",
    "Y       = []\n",
    "TIME = []\n",
    "k1 = VEC[0]\n",
    "k2 = VEC[1]\n",
    "k3 = VEC[2]"
   ]
  },
  {
   "cell_type": "markdown",
   "metadata": {},
   "source": [
    "#### 計算"
   ]
  },
  {
   "cell_type": "code",
   "execution_count": null,
   "metadata": {},
   "outputs": [],
   "source": [
    "for _i in range(len(NUMBERS)):\n",
    "    _time = NUMBERS[_i][0]\n",
    "    _y = NUMBERS[_i][2]\n",
    "    _x1 = NUMBERS3[_i][_time][k1]\n",
    "    _x2 = NUMBERS3[_i][_time][k2]\n",
    "    _x3 = NUMBERS3[_i][_time][k3]\n",
    "    _z = NUMBERS[_i][4]\n",
    "    if not len(list(set(_y) & set(_x1))) >= 2 and not len(list(set(_y) & set(_x2))) >= 2 and _z == OLD_WEEK:\n",
    "        Y.append(_y)\n",
    "        X.append([_x1, _x2, _x3])\n",
    "        TIME.append(_time)\n",
    "        pass"
   ]
  },
  {
   "cell_type": "markdown",
   "metadata": {},
   "source": [
    "### 予測スタート"
   ]
  },
  {
   "cell_type": "markdown",
   "metadata": {},
   "source": [
    "###### 20180709"
   ]
  },
  {
   "cell_type": "code",
   "execution_count": 16,
   "metadata": {},
   "outputs": [],
   "source": [
    "pkl_file = \"data/numbers3_20180709.pkl\""
   ]
  },
  {
   "cell_type": "markdown",
   "metadata": {},
   "source": [
    "###### + or -"
   ]
  },
  {
   "cell_type": "code",
   "execution_count": 17,
   "metadata": {},
   "outputs": [],
   "source": [
    "data = [float(\"032\"), float(\"487\"), float(\"413\")]"
   ]
  },
  {
   "cell_type": "code",
   "execution_count": 121,
   "metadata": {},
   "outputs": [],
   "source": [
    "y = pd.DataFrame(Y)\n",
    "x = pd.DataFrame(X)"
   ]
  },
  {
   "cell_type": "code",
   "execution_count": 122,
   "metadata": {},
   "outputs": [
    {
     "data": {
      "text/plain": [
       "171"
      ]
     },
     "execution_count": 122,
     "metadata": {},
     "output_type": "execute_result"
    }
   ],
   "source": [
    "len(y)"
   ]
  },
  {
   "cell_type": "code",
   "execution_count": 123,
   "metadata": {},
   "outputs": [
    {
     "data": {
      "text/plain": [
       "LinearRegression(copy_X=True, fit_intercept=True, n_jobs=1, normalize=False)"
      ]
     },
     "execution_count": 123,
     "metadata": {},
     "output_type": "execute_result"
    }
   ],
   "source": [
    "model = linear_model.LinearRegression()\n",
    "model.fit(X, Y)"
   ]
  },
  {
   "cell_type": "code",
   "execution_count": 124,
   "metadata": {},
   "outputs": [],
   "source": [
    "px = x\n",
    "py = model.predict(px)"
   ]
  },
  {
   "cell_type": "code",
   "execution_count": 125,
   "metadata": {},
   "outputs": [
    {
     "name": "stdout",
     "output_type": "stream",
     "text": [
      "第4902回: 159<-591.8012834503295   予測:[1, 1, 1, 2, 2, 2, 2, 0, 2, 5]\n",
      "第4889回: 684<-462.5220095125653   予測:[2, 1, 2, 1, 3, 2, 1, 1, 2, 3]\n",
      "第4844回: 415<-475.50944647528183   予測:[0, 2, 5, 2, 0, 1, 1, 2, 4, 1]\n",
      "第4811回: 937<-473.96745837548116   予測:[0, 4, 3, 0, 2, 1, 1, 3, 3, 1]\n",
      "第4795回: 754<-437.21008431678223   予測:[2, 3, 2, 3, 0, 3, 2, 1, 2, 0]\n",
      "第4766回: 656<-560.5214641586483   予測:[2, 0, 4, 1, 1, 2, 1, 4, 2, 1]\n",
      "第4709回: 332<-432.120125286901   予測:[3, 2, 0, 1, 4, 1, 1, 1, 2, 3]\n",
      "第4684回: 428<-423.92862273040373   予測:[2, 2, 3, 1, 1, 1, 1, 6, 1, 0]\n",
      "第4635回: 984<-449.7684316603303   予測:[1, 1, 3, 2, 4, 1, 4, 1, 1, 0]\n",
      "第4610回: 449<-479.5540156598464   予測:[3, 1, 1, 0, 3, 1, 1, 3, 4, 1]\n",
      "第4567回: 415<-564.7920514606042   予測:[2, 3, 1, 2, 0, 2, 1, 3, 1, 3]\n",
      "第4509回: 657<-467.88313142369174   予測:[0, 4, 0, 2, 1, 2, 5, 3, 1, 0]\n",
      "第4396回: 942<-449.89973983474545   予測:[3, 2, 2, 2, 0, 0, 3, 2, 1, 3]\n",
      "第4327回: 234<-542.0768861101469   予測:[1, 1, 2, 0, 2, 4, 1, 4, 2, 1]\n",
      "第4310回: 988<-489.7980349521771   予測:[1, 1, 0, 1, 5, 2, 2, 2, 3, 1]\n",
      "第4267回: 230<-432.42892338740455   予測:[3, 0, 0, 2, 3, 2, 3, 1, 0, 4]\n",
      "第4201回: 336<-396.1591406638376   予測:[6, 1, 1, 1, 4, 0, 0, 1, 3, 1]\n",
      "第4189回: 334<-431.61834704860803   予測:[2, 2, 2, 2, 2, 3, 1, 1, 0, 3]\n",
      "第4168回: 451<-465.1350078638343   予測:[1, 1, 0, 1, 2, 5, 4, 1, 1, 2]\n",
      "第4156回: 465<-453.66930109360726   予測:[0, 2, 1, 2, 1, 1, 4, 3, 2, 2]\n",
      "第4111回: 187<-487.3666243975677   予測:[2, 5, 2, 2, 0, 1, 1, 0, 3, 2]\n",
      "第4107回: 245<-526.7304829695391   予測:[5, 5, 0, 1, 1, 0, 4, 1, 0, 1]\n",
      "第4060回: 048<-428.8528277528345   予測:[2, 3, 1, 4, 0, 1, 3, 4, 0, 0]\n",
      "第3996回: 893<-489.1742845920804   予測:[1, 2, 0, 2, 3, 3, 1, 2, 2, 2]\n",
      "第3930回: 495<-435.7378628645953   予測:[2, 2, 0, 3, 0, 2, 2, 2, 3, 2]\n",
      "第3885回: 934<-449.66897505399737   予測:[2, 2, 1, 1, 1, 1, 2, 2, 3, 3]\n",
      "26\n"
     ]
    }
   ],
   "source": [
    "NUM = []\n",
    "for _i in range(len(py)):\n",
    "    _py = str(int(py[_i]))\n",
    "    for _k, _v in enumerate(NUMBERS):\n",
    "        if _v[0] == TIME[_i]:\n",
    "            if len(list(set(_v[2]) & set(_py))) >= 2:\n",
    "                _format = \"第{0}回: {1}<-{2}   予測:{3}\".format(TIME[_i], _v[2], py[_i], LOCK[_v[0]])\n",
    "                print(_format)\n",
    "                NUM.append([TIME[_i], _v[2], py[_i], LOCK[_v[0]]])\n",
    "                pass\n",
    "            # print(TIME[_i], _v[2], py[_i])\n",
    "print(len(NUM))"
   ]
  },
  {
   "cell_type": "markdown",
   "metadata": {},
   "source": [
    "## 決定係数"
   ]
  },
  {
   "cell_type": "code",
   "execution_count": 126,
   "metadata": {},
   "outputs": [
    {
     "data": {
      "text/plain": [
       "0.028018027827669045"
      ]
     },
     "execution_count": 126,
     "metadata": {},
     "output_type": "execute_result"
    }
   ],
   "source": [
    "r2_score(y, py)"
   ]
  },
  {
   "cell_type": "code",
   "execution_count": 127,
   "metadata": {},
   "outputs": [
    {
     "data": {
      "text/plain": [
       "0.028018027827669045"
      ]
     },
     "execution_count": 127,
     "metadata": {},
     "output_type": "execute_result"
    }
   ],
   "source": [
    "model.score(x, y)"
   ]
  },
  {
   "cell_type": "code",
   "execution_count": 128,
   "metadata": {},
   "outputs": [
    {
     "data": {
      "text/plain": [
       "0.14132314515837072"
      ]
     },
     "execution_count": 128,
     "metadata": {},
     "output_type": "execute_result"
    }
   ],
   "source": [
    "model.coef_[0]"
   ]
  },
  {
   "cell_type": "code",
   "execution_count": 131,
   "metadata": {},
   "outputs": [
    {
     "data": {
      "text/plain": [
       "['data/numbers3_20180709.pkl']"
      ]
     },
     "execution_count": 131,
     "metadata": {},
     "output_type": "execute_result"
    }
   ],
   "source": [
    "joblib.dump(model, pkl_file)"
   ]
  },
  {
   "cell_type": "code",
   "execution_count": 132,
   "metadata": {},
   "outputs": [],
   "source": [
    "clf = joblib.load(pkl_file)"
   ]
  },
  {
   "cell_type": "code",
   "execution_count": 133,
   "metadata": {},
   "outputs": [],
   "source": [
    "processor = clf.predict([data])"
   ]
  },
  {
   "cell_type": "code",
   "execution_count": 134,
   "metadata": {},
   "outputs": [
    {
     "data": {
      "text/plain": [
       "array([449.05558779])"
      ]
     },
     "execution_count": 134,
     "metadata": {},
     "output_type": "execute_result"
    }
   ],
   "source": [
    "processor"
   ]
  }
 ],
 "metadata": {
  "kernelspec": {
   "display_name": "Python 3",
   "language": "python",
   "name": "python3"
  },
  "language_info": {
   "codemirror_mode": {
    "name": "ipython",
    "version": 3
   },
   "file_extension": ".py",
   "mimetype": "text/x-python",
   "name": "python",
   "nbconvert_exporter": "python",
   "pygments_lexer": "ipython3",
   "version": "3.6.2"
  }
 },
 "nbformat": 4,
 "nbformat_minor": 2
}
