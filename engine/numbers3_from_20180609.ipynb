{
 "cells": [
  {
   "cell_type": "markdown",
   "metadata": {},
   "source": [
    "## インポート"
   ]
  },
  {
   "cell_type": "code",
   "execution_count": 1,
   "metadata": {},
   "outputs": [],
   "source": [
    "from config import NUMBERS, NUMBERS3, NUMBERS4, NUMBERS3_RESULT, NUMBERS4_RESULT\n",
    "import sys\n",
    "import re\n",
    "import difflib\n",
    "import matplotlib\n",
    "import matplotlib.pyplot as plt\n",
    "import pandas as pd\n",
    "import numpy as np\n",
    "import seaborn as sns\n",
    "from sklearn import linear_model\n",
    "from sklearn.metrics import (mean_absolute_error,\n",
    "                             mean_squared_error,\n",
    "                             r2_score)\n",
    "from sklearn.model_selection import train_test_split\n",
    "from sklearn.externals import joblib\n",
    "\n",
    "plt.rcParams['font.family'] = 'AppleGothic'\n",
    "\n",
    "%load_ext autoreload\n",
    "%autoreload 2"
   ]
  },
  {
   "cell_type": "markdown",
   "metadata": {},
   "source": [
    "##### 調査 その1"
   ]
  },
  {
   "cell_type": "code",
   "execution_count": 16,
   "metadata": {},
   "outputs": [
    {
     "name": "stdout",
     "output_type": "stream",
     "text": [
      "前回:32個, 前々回:25個, 前回曜日:28個, 前々回曜日:22個, 前回六曜:24個, 前々回六曜:27個\n",
      "赤口:0個, 仏滅:0個, 友引:158個 先勝:0個, 先負:0個, 大安:0個\n"
     ]
    }
   ],
   "source": [
    "X = []\n",
    "Y = []\n",
    "Z = []\n",
    "key_0 = 0\n",
    "key_1 = 0\n",
    "key_2 = 0\n",
    "key_3 = 0\n",
    "key_4 = 0\n",
    "key_5 = 0\n",
    "key_6  = 0 #  赤口\n",
    "key_7  = 0 #  仏滅\n",
    "key_8  = 0 #  友引\n",
    "key_9  = 0 #  先勝\n",
    "key_10 = 0 #  先負\n",
    "key_11 = 0 #  大安\n",
    "\n",
    "\"\"\"\n",
    "先勝・友引・先負・仏滅・大安・赤口\n",
    "\"\"\"\n",
    "for _i in range(len(NUMBERS)):\n",
    "    _time = NUMBERS[_i][0]\n",
    "    _y = NUMBERS[_i][2]\n",
    "    _x = NUMBERS3[_i][_time]\n",
    "    _z = NUMBERS[_i][4]\n",
    "    for _k, _v in enumerate(_x):\n",
    "        # if len(list(set(_y) & set(_v))) >= 2:\n",
    "        if len(list(set(_y) & set(_v))) >= 2 and _z == \"友引\":\n",
    "            if _k == 0:\n",
    "                key_0 += 1\n",
    "            elif _k == 1:\n",
    "                key_1 += 1\n",
    "            elif _k == 2:\n",
    "                key_2 += 1\n",
    "            elif _k == 3:\n",
    "                key_3 += 1\n",
    "            elif _k == 4:\n",
    "                key_4 += 1\n",
    "            elif _k == 5:\n",
    "                key_5 += 1\n",
    "                \n",
    "            if _z == \"赤口\":\n",
    "                key_6 += 1\n",
    "            elif _z == \"仏滅\":\n",
    "                key_7 += 1\n",
    "            elif _z == \"友引\":\n",
    "                key_8 += 1\n",
    "            elif _z == \"先勝\":\n",
    "                key_9 += 1\n",
    "            elif _z == \"先負\":\n",
    "                key_10 += 1\n",
    "            elif _z == \"大安\":\n",
    "                key_11 += 1\n",
    "            \n",
    "            \n",
    "            _format = \"{0}回 {1}:{2}({3}) [{4}]\".format(_time, _y, _x[_k], _k, _z)\n",
    "            # print(_time, _y, _v)\n",
    "            # print(_format)\n",
    "            pass\n",
    "_sum     = sum([key_0, key_1, key_2, key_3, key_4, key_5])\n",
    "_format1 = \"前回:{0}個, 前々回:{1}個, 前回曜日:{2}個, 前々回曜日:{3}個, 前回六曜:{4}個, 前々回六曜:{5}個\".format(key_0, key_1, key_2, key_3, key_4, key_5)\n",
    "_format2 = \"赤口:{0}個, 仏滅:{1}個, 友引:{2}個 先勝:{3}個, 先負:{4}個, 大安:{5}個\".format(key_6, key_7, key_8, key_9, key_10, key_11)\n",
    "\n",
    "data = {\n",
    "    \"base\": [key_0, key_1, key_2, key_3, key_4, key_5],\n",
    "    \"old_week\": [key_6, key_7, key_8, key_9, key_10, key_11]\n",
    "}\n",
    "_data = pd.DataFrame(data)\n",
    "print(_format1)\n",
    "print(_format2)\n",
    "\n",
    "# sns.countplot(x=\"old_week\", data=_data)\n"
   ]
  },
  {
   "cell_type": "code",
   "execution_count": 29,
   "metadata": {},
   "outputs": [
    {
     "data": {
      "text/plain": [
       "'\\n予測したものから、\\n(y, [x1, x2])\\nx1: 予測した数字\\nx2: 重複しなかった数字の合計\\n'"
      ]
     },
     "execution_count": 29,
     "metadata": {},
     "output_type": "execute_result"
    }
   ],
   "source": [
    "# 4941\n",
    "test = [\"193\", \"413\", \"557\", \"648\", \"653\", \"669\"] # 642 -> 464\n",
    "# 0 -> 0\n",
    "# 1 -> 2\n",
    "# 2 -> 0\n",
    "# 3 -> 2\n",
    "# 4 -> 2\n",
    "# 5 -> 3\n",
    "# 6 -> 3\n",
    "# 7 -> 1\n",
    "# 8 -> 1\n",
    "# 9 -> 2\n",
    "\n",
    "# 4931\n",
    "test = [\"797\", \"513\", \"393\", \"909\", \"496\", \"934\"] # 648 -> 480\n",
    "\n",
    "# 4927 \n",
    "test = [\"393\", \"531\", \"851\", \"402\", \"934\", \"604\"] # 496 -> 499\n",
    "\n",
    "# 4919 \n",
    "test = [\"003\", \"402\", \"299\", \"002\", \"909\", \"372\"] # 604 -> 466\n",
    "\n",
    "\"\"\"\n",
    "予測したものから、\n",
    "(y, [x1, x2])\n",
    "x1: 予測した数字\n",
    "x2: 重複しなかった数字の合計\n",
    "\"\"\""
   ]
  },
  {
   "cell_type": "markdown",
   "metadata": {},
   "source": [
    "### 調査2"
   ]
  },
  {
   "cell_type": "code",
   "execution_count": 14,
   "metadata": {},
   "outputs": [],
   "source": [
    "X = []\n",
    "Y = []\n",
    "Z = []\n",
    "LOCK = {}\n",
    "for _i in range(len(NUMBERS)):\n",
    "    _time = NUMBERS[_i][0]\n",
    "    _y = NUMBERS[_i][2]\n",
    "    _x = NUMBERS3[_i][_time]\n",
    "    lock = []\n",
    "    hook = []\n",
    "    key_0 = 0\n",
    "    key_1 = 0\n",
    "    key_2 = 0\n",
    "    key_3 = 0\n",
    "    key_4 = 0\n",
    "    key_5 = 0\n",
    "    key_6 = 0\n",
    "    key_7 = 0\n",
    "    key_8 = 0\n",
    "    key_9 = 0\n",
    "    for _n in _x:\n",
    "        if _time == _time:\n",
    "            _h = list(_n)\n",
    "            for _j in _h:\n",
    "                if _j == '0':\n",
    "                    key_0 += 1\n",
    "                elif _j == '1':\n",
    "                    key_1 += 1\n",
    "                elif _j == '2':\n",
    "                    key_2 += 1\n",
    "                elif _j == '3':\n",
    "                    key_3 += 1\n",
    "                elif _j == '4':\n",
    "                    key_4 += 1\n",
    "                elif _j == '5':\n",
    "                    key_5 += 1\n",
    "                elif _j == '6':\n",
    "                    key_6 += 1\n",
    "                elif _j == '7':\n",
    "                    key_7 += 1\n",
    "                elif _j == '8':\n",
    "                    key_8 += 1\n",
    "                elif _j == '9':\n",
    "                    key_9 += 1\n",
    "            lock.append(list(_n))\n",
    "    data = {\n",
    "        \"0\": str(int(key_0) + 1),\n",
    "        \"1\": str(int(key_1) + 1),\n",
    "        \"2\": str(int(key_2) + 1),\n",
    "        \"3\": str(int(key_3) + 1),\n",
    "        \"4\": str(int(key_4) + 1),\n",
    "        \"5\": str(int(key_5) + 1),\n",
    "        \"6\": str(int(key_6) + 1),\n",
    "        \"7\": str(int(key_7) + 1),\n",
    "        \"8\": str(int(key_8) + 1),\n",
    "        \"9\": str(int(key_9) + 1),\n",
    "    }\n",
    "    LOCK.update({ _time: [key_0, key_1, key_2, key_3, key_4, key_5, key_6, key_7, key_8, key_9]})\n",
    "    Z.append(data)\n",
    "    X.append(lock)\n",
    "    \n",
    "lock = pd.DataFrame(LOCK)"
   ]
  },
  {
   "cell_type": "markdown",
   "metadata": {},
   "source": [
    "#### 調査3"
   ]
  },
  {
   "cell_type": "code",
   "execution_count": null,
   "metadata": {},
   "outputs": [],
   "source": [
    "OLD_WEEK = \"仏滅\""
   ]
  },
  {
   "cell_type": "code",
   "execution_count": null,
   "metadata": {},
   "outputs": [],
   "source": [
    "X    = []\n",
    "Y    = []\n",
    "TIME = []\n",
    "\n",
    "\"\"\"\n",
    "先勝・友引・先負・仏滅・大安・赤口\n",
    "\"\"\"\n",
    "\n",
    "for _i in range(len(NUMBERS)):\n",
    "    _time = NUMBERS[_i][0]\n",
    "    _y = NUMBERS[_i][2]\n",
    "    if _z == \"大安\":\n",
    "    elif _z == \"友引\":\n",
    "    elif _z == \"先勝\":\n",
    "    elif _z == \"仏滅\":\n",
    "    elif _z == \"\":\n",
    "    elif _z == \"\":\n",
    "    _x1 = NUMBERS3[_i][_time][0]\n",
    "    _x2 = NUMBERS3[_i][_time][2]\n",
    "    _x3 = NUMBERS3[_i][_time][3]\n",
    "    _z = NUMBERS[_i][4]\n",
    "    # if len(list(set(_y) & set(_x1))) >= 2 or len(list(set(_y) & set(_x2))) >= 2 or _z == \"赤口\":\n",
    "    if len(list(set(_y) & set(_x1))) >= 2 or len(list(set(_y) & set(_x2))) >= 2 or len(list(set(_y) & set(_x3))) and _z == \"赤口\":\n",
    "        Y.append(_y)\n",
    "        X.append([_x1, _x2, _x3])\n",
    "        TIME.append(_time)\n",
    "        pass\n",
    "    # Y.append(_y)\n",
    "    # X.append([_x1, _x2, _x3])\n",
    "    # TIME.append(_time)"
   ]
  },
  {
   "cell_type": "markdown",
   "metadata": {},
   "source": [
    "### 1. 前回のナンバーを特徴量とする"
   ]
  },
  {
   "cell_type": "code",
   "execution_count": 2,
   "metadata": {},
   "outputs": [],
   "source": [
    "X = []\n",
    "Y = []\n",
    "for _i in range(len(NUMBERS)):\n",
    "    _time = NUMBERS[_i][0]\n",
    "    _y = NUMBERS[_i][2]\n",
    "    _x = NUMBERS3[_i][_time][0]\n",
    "    if len(list(set(_y) & set(_x))) >= 3:\n",
    "        #print(\"{0} -> {1}:{2}\".format(_time, _y, _x))\n",
    "        Y.append(_y)\n",
    "        X.append([_x])"
   ]
  },
  {
   "cell_type": "markdown",
   "metadata": {},
   "source": [
    "### 2. 前回の六曜のナンバーを特徴量とする"
   ]
  },
  {
   "cell_type": "code",
   "execution_count": 33,
   "metadata": {},
   "outputs": [],
   "source": [
    "X = []\n",
    "Y = []\n",
    "TIME = []\n",
    "for _i in range(len(NUMBERS)):\n",
    "    _time = NUMBERS[_i][0]\n",
    "    _y = NUMBERS[_i][2]\n",
    "    _x = NUMBERS3[_i][_time][4]\n",
    "    if len(list(set(_y) & set(_x))) >= 3:\n",
    "        # print(\"{0} -> {1}:{2}\".format(_time, _y, _x))\n",
    "        Y.append(_y)\n",
    "        X.append([_x])\n",
    "        TIME.append(_time)"
   ]
  },
  {
   "cell_type": "markdown",
   "metadata": {},
   "source": [
    "### 3. 前回のナンバーと前回の六曜のナンバーを特徴量とする"
   ]
  },
  {
   "cell_type": "code",
   "execution_count": 32,
   "metadata": {},
   "outputs": [],
   "source": [
    "X = []\n",
    "Y = []\n",
    "TIME = []\n",
    "for _i in range(len(NUMBERS)):\n",
    "    _time = NUMBERS[_i][0]\n",
    "    _y = NUMBERS[_i][2]\n",
    "    _x1 = NUMBERS3[_i][_time][4]\n",
    "    _x2 = NUMBERS3[_i][_time][0]\n",
    "    _z = NUMBERS[_i][4]\n",
    "    if len(list(set(_y) & set(_x1))) >= 2 or len(list(set(_y) & set(_x2))) >= 2:\n",
    "        # Y.append(_y)\n",
    "        # X.append([_x1, _x2])\n",
    "        # TIME.append(_time)\n",
    "        pass\n",
    "    if _z == \"先負\":\n",
    "        Y.append(_y)\n",
    "        X.append([_x1, _x2])\n",
    "        TIME.append(_time)"
   ]
  },
  {
   "cell_type": "markdown",
   "metadata": {},
   "source": [
    "### 4. 抽選数を特徴量とする"
   ]
  },
  {
   "cell_type": "code",
   "execution_count": 203,
   "metadata": {},
   "outputs": [],
   "source": [
    "X = []\n",
    "Y = []\n",
    "TIME = []\n",
    "for _i in range(len(NUMBERS3_RESULT)):\n",
    "    _time = NUMBERS[_i][0]\n",
    "    _y = NUMBERS[_i][2]\n",
    "    _x = NUMBERS3_RESULT[_i][_time]\n",
    "    _z = NUMBERS[_i][4]\n",
    "    if _z == \"仏滅\": # 20160625\n",
    "        Y.append(_y)\n",
    "        X.append(_x)\n",
    "        TIME.append(_time)"
   ]
  },
  {
   "cell_type": "markdown",
   "metadata": {},
   "source": [
    "#### 5. 前回のナンバーと前回曜日ナンバーと前回六曜日のナンバーを特徴量とする"
   ]
  },
  {
   "cell_type": "code",
   "execution_count": 4,
   "metadata": {},
   "outputs": [],
   "source": [
    "X    = []\n",
    "Y    = []\n",
    "TIME = []\n",
    "\n",
    "\"\"\"\n",
    "先勝・友引・先負・仏滅・大安・赤口\n",
    "\"\"\"\n",
    "\n",
    "for _i in range(len(NUMBERS)):\n",
    "    _time = NUMBERS[_i][0]\n",
    "    _y = NUMBERS[_i][2]\n",
    "    _x1 = NUMBERS3[_i][_time][0]\n",
    "    _x2 = NUMBERS3[_i][_time][2]\n",
    "    _x3 = NUMBERS3[_i][_time][4]\n",
    "    _z = NUMBERS[_i][4]\n",
    "    if len(list(set(_y) & set(_x1))) >= 2 or len(list(set(_y) & set(_x2))) >= 2 or _z == \"仏滅\":\n",
    "        Y.append(_y)\n",
    "        X.append([_x1, _x2, _x3])\n",
    "        TIME.append(_time)\n",
    "        pass"
   ]
  },
  {
   "cell_type": "markdown",
   "metadata": {},
   "source": [
    "#### 前々回のナンバーと前々回曜日のナンバーと前々回六曜のナンバー (仏滅)(大安)"
   ]
  },
  {
   "cell_type": "code",
   "execution_count": 19,
   "metadata": {},
   "outputs": [],
   "source": [
    "X    = []\n",
    "Y    = []\n",
    "TIME = []\n",
    "\n",
    "\"\"\"\n",
    "先勝・友引・先負・仏滅・大安・赤口\n",
    "\"\"\"\n",
    "\n",
    "for _i in range(len(NUMBERS)):\n",
    "    _time = NUMBERS[_i][0]\n",
    "    _y = NUMBERS[_i][2]\n",
    "    _x1 = NUMBERS3[_i][_time][1]\n",
    "    _x2 = NUMBERS3[_i][_time][3]\n",
    "    _x3 = NUMBERS3[_i][_time][5]\n",
    "    _z = NUMBERS[_i][4]\n",
    "    if not len(list(set(_y) & set(_x1))) >= 2 and not len(list(set(_y) & set(_x2))) >= 2 and _z == \"仏滅\":\n",
    "        Y.append(_y)\n",
    "        X.append([_x1, _x2, _x3])\n",
    "        TIME.append(_time)\n",
    "        pass"
   ]
  },
  {
   "cell_type": "markdown",
   "metadata": {},
   "source": [
    "#### 前回のナンバーと前回曜日のナンバーと前々回曜日のナンバーを特徴量とする (赤口)"
   ]
  },
  {
   "cell_type": "code",
   "execution_count": 18,
   "metadata": {},
   "outputs": [],
   "source": [
    "X    = []\n",
    "Y    = []\n",
    "TIME = []\n",
    "\n",
    "\"\"\"\n",
    "先勝・友引・先負・仏滅・大安・赤口\n",
    "\"\"\"\n",
    "\n",
    "for _i in range(len(NUMBERS)):\n",
    "    _time = NUMBERS[_i][0]\n",
    "    _y = NUMBERS[_i][2]\n",
    "    _x1 = NUMBERS3[_i][_time][0]\n",
    "    _x2 = NUMBERS3[_i][_time][2]\n",
    "    _x3 = NUMBERS3[_i][_time][3]\n",
    "    _z = NUMBERS[_i][4]\n",
    "    # if len(list(set(_y) & set(_x1))) >= 2 or len(list(set(_y) & set(_x2))) >= 2 or _z == \"赤口\":\n",
    "    if len(list(set(_y) & set(_x1))) >= 2 or len(list(set(_y) & set(_x2))) >= 2 or len(list(set(_y) & set(_x3))) and _z == \"赤口\":\n",
    "        Y.append(_y)\n",
    "        X.append([_x1, _x2, _x3])\n",
    "        TIME.append(_time)\n",
    "        pass"
   ]
  },
  {
   "cell_type": "markdown",
   "metadata": {},
   "source": [
    "#### 前々回のナンバーと前回曜日のナンバーと前回六曜のナンバーを特徴量とする (先勝)"
   ]
  },
  {
   "cell_type": "code",
   "execution_count": 17,
   "metadata": {},
   "outputs": [],
   "source": [
    "X    = []\n",
    "Y    = []\n",
    "TIME = []\n",
    "\n",
    "\"\"\"\n",
    "先勝・友引・先負・仏滅・大安・赤口\n",
    "\"\"\"\n",
    "\n",
    "for _i in range(len(NUMBERS)):\n",
    "    _time = NUMBERS[_i][0]\n",
    "    _y = NUMBERS[_i][2]\n",
    "    _x1 = NUMBERS3[_i][_time][1]\n",
    "    _x2 = NUMBERS3[_i][_time][2]\n",
    "    _x3 = NUMBERS3[_i][_time][4]\n",
    "    _z = NUMBERS[_i][4]\n",
    "    # if _z == \"先勝\":\n",
    "    if not len(list(set(_y) & set(_x1))) >= 2 and not len(list(set(_y) & set(_x2))) >= 2 and _z == \"先勝\":\n",
    "    # if len(list(set(_y) & set(_x1))) >= 2 or len(list(set(_y) & set(_x2))) >= 2 or len(list(set(_y) & set(_x3))) and _z == \"赤口\":\n",
    "        Y.append(_y)\n",
    "        X.append([_x1, _x2, _x3])\n",
    "        TIME.append(_time)\n",
    "        pass"
   ]
  },
  {
   "cell_type": "markdown",
   "metadata": {},
   "source": [
    "#### 前回のナンバーと前回曜日のナンバーと前々回六曜のナンバーを特徴量とする (友引)"
   ]
  },
  {
   "cell_type": "code",
   "execution_count": null,
   "metadata": {},
   "outputs": [],
   "source": [
    "X    = []\n",
    "Y    = []\n",
    "TIME = []\n",
    "\n",
    "for _i in range(len(NUMBERS)):\n",
    "    _time = NUMBERS[_i][0]\n",
    "    _y = NUMBERS[_i][2]\n",
    "    _x1 = NUMBERS3[_i][_time][1]\n",
    "    _x2 = NUMBERS3[_i][_time][2]\n",
    "    _x3 = NUMBERS3[_i][_time][4]\n",
    "    _z = NUMBERS[_i][4]\n",
    "    # if _z == \"先勝\":\n",
    "    if not len(list(set(_y) & set(_x1))) >= 2 and not len(list(set(_y) & set(_x2))) >= 2 and _z == \"友引\":\n",
    "    # if len(list(set(_y) & set(_x1))) >= 2 or len(list(set(_y) & set(_x2))) >= 2 or len(list(set(_y) & set(_x3))) and _z == \"赤口\":\n",
    "        Y.append(_y)\n",
    "        X.append([_x1, _x2, _x3])\n",
    "        TIME.append(_time)\n",
    "        pass"
   ]
  },
  {
   "cell_type": "markdown",
   "metadata": {},
   "source": [
    "#### (先負)"
   ]
  },
  {
   "cell_type": "markdown",
   "metadata": {},
   "source": [
    "#### (大安)"
   ]
  },
  {
   "cell_type": "markdown",
   "metadata": {},
   "source": [
    "#### 予測スタート"
   ]
  },
  {
   "cell_type": "code",
   "execution_count": 6,
   "metadata": {},
   "outputs": [],
   "source": [
    "y = pd.DataFrame(Y)\n",
    "x = pd.DataFrame(X)"
   ]
  },
  {
   "cell_type": "code",
   "execution_count": 7,
   "metadata": {},
   "outputs": [
    {
     "data": {
      "text/plain": [
       "426"
      ]
     },
     "execution_count": 7,
     "metadata": {},
     "output_type": "execute_result"
    }
   ],
   "source": [
    "len(y)"
   ]
  },
  {
   "cell_type": "code",
   "execution_count": 8,
   "metadata": {},
   "outputs": [
    {
     "name": "stderr",
     "output_type": "stream",
     "text": [
      "/Users/kubocker/.pyenv/versions/miniconda3-4.3.27/lib/python3.6/site-packages/sklearn/linear_model/base.py:509: RuntimeWarning: internal gelsd driver lwork query error, required iwork dimension not returned. This is likely the result of LAPACK bug 0038, fixed in LAPACK 3.2.2 (released July 21, 2010). Falling back to 'gelss' driver.\n",
      "  linalg.lstsq(X, y)\n"
     ]
    },
    {
     "data": {
      "text/plain": [
       "LinearRegression(copy_X=True, fit_intercept=True, n_jobs=1, normalize=False)"
      ]
     },
     "execution_count": 8,
     "metadata": {},
     "output_type": "execute_result"
    }
   ],
   "source": [
    "model = linear_model.LinearRegression()\n",
    "model.fit(X, Y)"
   ]
  },
  {
   "cell_type": "code",
   "execution_count": 9,
   "metadata": {},
   "outputs": [],
   "source": [
    "px = x\n",
    "py = model.predict(px)"
   ]
  },
  {
   "cell_type": "code",
   "execution_count": 10,
   "metadata": {},
   "outputs": [
    {
     "name": "stdout",
     "output_type": "stream",
     "text": [
      "第4904回: 716<-516.1398830207643   予測:[1, 4, 0, 1, 0, 3, 2, 1, 1, 5]\n",
      "第4893回: 516<-515.1459277472513   予測:[4, 1, 3, 2, 0, 3, 1, 2, 0, 2]\n",
      "第4892回: 352<-520.9475450484066   予測:[4, 0, 2, 3, 0, 3, 1, 2, 0, 3]\n",
      "第4891回: 750<-517.0231707518584   予測:[5, 0, 1, 1, 2, 1, 2, 1, 3, 2]\n",
      "第4890回: 507<-567.2689580551269   予測:[5, 2, 1, 0, 1, 2, 1, 0, 3, 3]\n",
      "第4889回: 684<-548.612800252658   予測:[2, 1, 2, 1, 3, 2, 1, 1, 2, 3]\n",
      "第4879回: 217<-472.7319641689885   予測:[1, 2, 3, 3, 2, 0, 2, 2, 0, 3]\n",
      "第4846回: 437<-435.823782449131   予測:[1, 1, 4, 2, 2, 3, 0, 1, 2, 2]\n",
      "第4794回: 385<-538.1389143049323   予測:[1, 2, 4, 3, 2, 1, 2, 2, 1, 0]\n",
      "第4793回: 523<-523.4958398056492   予測:[2, 3, 3, 2, 2, 1, 2, 2, 0, 1]\n",
      "第4760回: 347<-436.9430030505674   予測:[0, 1, 8, 1, 2, 0, 2, 2, 2, 0]\n",
      "第4748回: 147<-416.8441251910374   予測:[5, 3, 0, 2, 0, 2, 0, 3, 1, 2]\n",
      "第4733回: 015<-507.10031276053246   予測:[2, 4, 1, 3, 2, 2, 0, 2, 0, 2]\n",
      "第4704回: 904<-504.24478340321207   予測:[2, 4, 0, 0, 3, 0, 2, 3, 2, 2]\n",
      "第4674回: 471<-475.58732848384983   予測:[2, 0, 0, 3, 1, 3, 0, 3, 0, 6]\n",
      "第4654回: 479<-574.0518201937148   予測:[1, 1, 1, 2, 1, 2, 1, 2, 0, 7]\n",
      "第4649回: 796<-476.20996338294606   予測:[1, 1, 1, 4, 4, 1, 2, 1, 1, 2]\n",
      "第4637回: 473<-432.33113873238466   予測:[2, 1, 2, 2, 3, 2, 4, 0, 1, 1]\n",
      "第4629回: 053<-538.0871231777622   予測:[0, 3, 1, 0, 1, 2, 2, 4, 2, 3]\n",
      "第4627回: 546<-451.23502207833536   予測:[3, 4, 0, 0, 3, 2, 2, 2, 1, 1]\n",
      "第4623回: 064<-407.41535764151195   予測:[2, 5, 1, 0, 1, 0, 4, 0, 3, 2]\n",
      "第4569回: 450<-410.16914144234596   予測:[6, 3, 1, 0, 1, 2, 1, 3, 0, 1]\n",
      "第4533回: 623<-523.6375550224077   予測:[0, 4, 1, 0, 1, 2, 3, 4, 2, 1]\n",
      "第4513回: 271<-472.7530824865538   予測:[0, 4, 4, 2, 0, 0, 3, 2, 1, 2]\n",
      "第4495回: 401<-510.91926493885313   予測:[3, 0, 1, 2, 4, 1, 1, 3, 1, 2]\n",
      "第4492回: 053<-531.2317185211975   予測:[1, 0, 1, 2, 3, 1, 1, 3, 3, 3]\n",
      "第4488回: 879<-489.7690243335675   予測:[3, 3, 1, 2, 3, 0, 1, 1, 3, 1]\n",
      "第4476回: 431<-437.1204743280006   予測:[2, 3, 3, 1, 2, 1, 2, 3, 0, 1]\n",
      "第4440回: 514<-542.2754091219401   予測:[0, 1, 2, 0, 3, 4, 2, 1, 3, 2]\n",
      "第4431回: 125<-521.0311402972832   予測:[2, 1, 4, 1, 2, 1, 2, 3, 1, 1]\n",
      "第4425回: 543<-415.33772921803967   予測:[2, 0, 3, 2, 3, 1, 1, 1, 2, 3]\n",
      "第4405回: 750<-574.3722680026939   予測:[0, 2, 2, 5, 0, 3, 0, 2, 1, 3]\n",
      "第4389回: 188<-418.3126211545398   予測:[6, 1, 1, 3, 0, 0, 2, 1, 1, 3]\n",
      "第4333回: 418<-480.36501806818916   予測:[0, 3, 3, 1, 2, 1, 2, 2, 2, 2]\n",
      "第4326回: 504<-545.068278982441   予測:[1, 4, 3, 0, 2, 2, 1, 1, 2, 2]\n",
      "第4298回: 166<-516.1210822007123   予測:[0, 2, 0, 0, 3, 1, 3, 3, 2, 4]\n",
      "第4291回: 429<-494.40649527626385   予測:[0, 1, 3, 1, 4, 2, 0, 3, 2, 2]\n",
      "第4257回: 504<-455.3455169153927   予測:[1, 3, 1, 3, 2, 3, 2, 0, 2, 1]\n",
      "第4248回: 425<-526.0463595443013   予測:[1, 2, 3, 2, 4, 2, 0, 2, 0, 2]\n",
      "第4225回: 489<-489.1217408962779   予測:[3, 1, 1, 1, 0, 1, 1, 4, 3, 3]\n",
      "第4209回: 809<-480.1294086048141   予測:[2, 3, 2, 1, 5, 0, 1, 0, 1, 3]\n",
      "第4139回: 905<-520.0133115818587   予測:[2, 1, 2, 0, 1, 1, 3, 1, 4, 3]\n",
      "第4099回: 553<-531.4130066095203   予測:[2, 2, 2, 1, 2, 4, 2, 2, 1, 0]\n",
      "第4083回: 682<-486.95728906787804   予測:[2, 1, 5, 1, 2, 2, 3, 0, 1, 1]\n",
      "第4074回: 690<-509.35005910234054   予測:[2, 1, 2, 2, 1, 4, 1, 1, 2, 2]\n",
      "第4016回: 112<-512.8203871019946   予測:[2, 6, 0, 0, 0, 3, 2, 0, 4, 1]\n",
      "第4012回: 551<-519.442642673243   予測:[1, 1, 2, 3, 1, 2, 2, 1, 4, 1]\n",
      "第3987回: 045<-445.8375687968522   予測:[2, 3, 0, 2, 2, 3, 2, 1, 1, 2]\n",
      "第3969回: 802<-480.34380838876325   予測:[1, 6, 2, 1, 1, 3, 2, 1, 1, 0]\n",
      "第3923回: 583<-536.9163917357273   予測:[2, 0, 0, 2, 3, 4, 1, 2, 2, 2]\n",
      "第3906回: 334<-534.672307648998   予測:[2, 1, 1, 2, 3, 0, 2, 3, 1, 3]\n",
      "第3893回: 034<-473.64758015989366   予測:[1, 2, 0, 2, 4, 2, 2, 1, 0, 4]\n",
      "第3891回: 746<-456.1107325490333   予測:[0, 3, 2, 3, 2, 2, 2, 1, 2, 1]\n",
      "第3886回: 463<-496.7103471575298   予測:[0, 0, 2, 5, 2, 2, 2, 2, 0, 3]\n",
      "第3876回: 495<-499.0312774112382   予測:[1, 4, 2, 2, 2, 1, 1, 2, 0, 3]\n",
      "55\n"
     ]
    }
   ],
   "source": [
    "NUM = []\n",
    "for _i in range(len(py)):\n",
    "    _py = str(int(py[_i]))\n",
    "    for _k, _v in enumerate(NUMBERS):\n",
    "        if _v[0] == TIME[_i]:\n",
    "            if len(list(set(_v[2]) & set(_py))) >= 2:\n",
    "                _format = \"第{0}回: {1}<-{2}   予測:{3}\".format(TIME[_i], _v[2], py[_i], LOCK[_v[0]])\n",
    "                print(_format)\n",
    "                NUM.append([TIME[_i], _v[2], py[_i], LOCK[_v[0]]])\n",
    "                pass\n",
    "            # print(TIME[_i], _v[2], py[_i])\n",
    "print(len(NUM))"
   ]
  },
  {
   "cell_type": "markdown",
   "metadata": {},
   "source": [
    "## 決定係数"
   ]
  },
  {
   "cell_type": "code",
   "execution_count": 11,
   "metadata": {},
   "outputs": [
    {
     "data": {
      "text/plain": [
       "0.018663054467258133"
      ]
     },
     "execution_count": 11,
     "metadata": {},
     "output_type": "execute_result"
    }
   ],
   "source": [
    "r2_score(y, py)"
   ]
  },
  {
   "cell_type": "code",
   "execution_count": 12,
   "metadata": {},
   "outputs": [
    {
     "data": {
      "text/plain": [
       "0.018663054467258133"
      ]
     },
     "execution_count": 12,
     "metadata": {},
     "output_type": "execute_result"
    }
   ],
   "source": [
    "model.score(x, y)"
   ]
  },
  {
   "cell_type": "code",
   "execution_count": 13,
   "metadata": {},
   "outputs": [
    {
     "data": {
      "text/plain": [
       "0.0710149780184127"
      ]
     },
     "execution_count": 13,
     "metadata": {},
     "output_type": "execute_result"
    }
   ],
   "source": [
    "model.coef_[0]"
   ]
  },
  {
   "cell_type": "markdown",
   "metadata": {},
   "source": [
    "## 予測"
   ]
  },
  {
   "cell_type": "code",
   "execution_count": 212,
   "metadata": {},
   "outputs": [],
   "source": [
    "pkl_file = \"data/numbers3_20180625.pkl\""
   ]
  },
  {
   "cell_type": "markdown",
   "metadata": {},
   "source": [
    "#### 前回のナンバーと前回六曜のナンバー"
   ]
  },
  {
   "cell_type": "code",
   "execution_count": 42,
   "metadata": {},
   "outputs": [],
   "source": [
    "data = [float(\"765\"), float(\"642\")] # 20180618"
   ]
  },
  {
   "cell_type": "markdown",
   "metadata": {},
   "source": [
    "##### 前回のナンバー, 前回曜日のナンバー, 前回六曜ナンバー"
   ]
  },
  {
   "cell_type": "code",
   "execution_count": 145,
   "metadata": {},
   "outputs": [],
   "source": [
    "data = [float(\"182\"), float(\"642\"), float(\"487\")] # 20180620"
   ]
  },
  {
   "cell_type": "markdown",
   "metadata": {},
   "source": [
    " #### 前々回のナンバー、前々回曜日のナンバー、前々回六曜のナンバー (仏滅)(大安)"
   ]
  },
  {
   "cell_type": "code",
   "execution_count": 195,
   "metadata": {},
   "outputs": [],
   "source": [
    "data = [float(\"018\"), float(\"119\"), float(\"182\")] # 20180625"
   ]
  },
  {
   "cell_type": "markdown",
   "metadata": {},
   "source": [
    "#### 前回のナンバー、前回曜日のナンバー、前々回曜のナンバー (赤口)"
   ]
  },
  {
   "cell_type": "code",
   "execution_count": 198,
   "metadata": {},
   "outputs": [],
   "source": [
    "data = [float(\"912\"), float(\"487\"), float(\"653\")] # 20180621"
   ]
  },
  {
   "cell_type": "markdown",
   "metadata": {},
   "source": [
    "#### 前々回のナンバー、前回曜日のナンバー、前回六曜のナンバー (先勝)"
   ]
  },
  {
   "cell_type": "code",
   "execution_count": 177,
   "metadata": {},
   "outputs": [],
   "source": [
    "data = [float(\"018\"), float(\"119\"), float(\"182\")] # 20180622"
   ]
  },
  {
   "cell_type": "markdown",
   "metadata": {},
   "source": [
    "##### 抽選数"
   ]
  },
  {
   "cell_type": "code",
   "execution_count": 213,
   "metadata": {},
   "outputs": [
    {
     "name": "stdout",
     "output_type": "stream",
     "text": [
      "80 448 186 820\n"
     ]
    }
   ],
   "source": [
    "from statistics import mean, median,variance,stdev\n",
    "\n",
    "X0 = []\n",
    "X1 = []\n",
    "X2 = []\n",
    "X3 = []\n",
    "for _i in range(len(NUMBERS3_RESULT)):\n",
    "    _time = NUMBERS[_i][0]\n",
    "    _y = NUMBERS[_i][2]\n",
    "    _x0 = NUMBERS3_RESULT[_i][_time][0]\n",
    "    _x1 = NUMBERS3_RESULT[_i][_time][1]\n",
    "    _x2 = NUMBERS3_RESULT[_i][_time][2]\n",
    "    _x3 = NUMBERS3_RESULT[_i][_time][3]\n",
    "    X0.append(int(_x0))\n",
    "    X1.append(int(_x1))\n",
    "    X2.append(int(_x2))\n",
    "    X3.append(int(_x3))\n",
    "    \n",
    "\n",
    "x0 = int(mean(X0))\n",
    "x1 = int(mean(X1))\n",
    "x2 = int(mean(X2))\n",
    "x3 = int(mean(X3))\n",
    "print(x0, x1, x2, x3)\n",
    "\n",
    "# 20180625\n",
    "# data = [float(\"0\"), float(\"0\"), float(\"0\"), float(\"0\")]\n",
    "# data = [float(\"50\"), float(\"50\"), float(\"50\"), float(\"50\")]\n",
    "data = [float(str(x0)), float(str(x1)), float(str(x2)), float(str(x3))]"
   ]
  },
  {
   "cell_type": "code",
   "execution_count": 214,
   "metadata": {},
   "outputs": [
    {
     "data": {
      "text/plain": [
       "['data/numbers3_20180625.pkl']"
      ]
     },
     "execution_count": 214,
     "metadata": {},
     "output_type": "execute_result"
    }
   ],
   "source": [
    "joblib.dump(model, pkl_file)"
   ]
  },
  {
   "cell_type": "code",
   "execution_count": 215,
   "metadata": {},
   "outputs": [],
   "source": [
    "clf = joblib.load(pkl_file)"
   ]
  },
  {
   "cell_type": "code",
   "execution_count": 216,
   "metadata": {},
   "outputs": [],
   "source": [
    "processor = clf.predict([data])"
   ]
  },
  {
   "cell_type": "code",
   "execution_count": 217,
   "metadata": {},
   "outputs": [
    {
     "data": {
      "text/plain": [
       "array([831.85439822])"
      ]
     },
     "execution_count": 217,
     "metadata": {},
     "output_type": "execute_result"
    }
   ],
   "source": [
    "processor"
   ]
  },
  {
   "cell_type": "code",
   "execution_count": null,
   "metadata": {},
   "outputs": [],
   "source": []
  }
 ],
 "metadata": {
  "kernelspec": {
   "display_name": "Python 3",
   "language": "python",
   "name": "python3"
  },
  "language_info": {
   "codemirror_mode": {
    "name": "ipython",
    "version": 3
   },
   "file_extension": ".py",
   "mimetype": "text/x-python",
   "name": "python",
   "nbconvert_exporter": "python",
   "pygments_lexer": "ipython3",
   "version": "3.6.2"
  }
 },
 "nbformat": 4,
 "nbformat_minor": 2
}
