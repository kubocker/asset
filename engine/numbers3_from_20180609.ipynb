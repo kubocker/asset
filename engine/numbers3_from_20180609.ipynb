{
 "cells": [
  {
   "cell_type": "markdown",
   "metadata": {},
   "source": [
    "## インポート"
   ]
  },
  {
   "cell_type": "code",
   "execution_count": 1,
   "metadata": {},
   "outputs": [],
   "source": [
    "from config import NUMBERS, NUMBERS3, NUMBERS4, NUMBERS3_RESULT, NUMBERS4_RESULT\n",
    "import sys\n",
    "import re\n",
    "import difflib\n",
    "import matplotlib\n",
    "import matplotlib.pyplot as plt\n",
    "import pandas as pd\n",
    "import numpy as np\n",
    "import seaborn as sns\n",
    "from sklearn import linear_model\n",
    "from sklearn.metrics import (mean_absolute_error,\n",
    "                             mean_squared_error,\n",
    "                             r2_score)\n",
    "from sklearn.model_selection import train_test_split\n",
    "from sklearn.externals import joblib\n",
    "\n",
    "plt.rcParams['font.family'] = 'AppleGothic'\n",
    "\n",
    "%load_ext autoreload\n",
    "%autoreload 2"
   ]
  },
  {
   "cell_type": "markdown",
   "metadata": {},
   "source": [
    "##### 調査 その1"
   ]
  },
  {
   "cell_type": "code",
   "execution_count": 2,
   "metadata": {},
   "outputs": [
    {
     "name": "stdout",
     "output_type": "stream",
     "text": [
      "前回:23個, 前々回:26個, 前回曜日:22個, 前々回曜日:32個, 前回六曜:23個, 前々回六曜:25個\n",
      "赤口:0個, 仏滅:0個, 友引:0個 先勝:0個, 先負:0個, 大安:151個\n"
     ]
    }
   ],
   "source": [
    "X = []\n",
    "Y = []\n",
    "Z = []\n",
    "key_0 = 0\n",
    "key_1 = 0\n",
    "key_2 = 0\n",
    "key_3 = 0\n",
    "key_4 = 0\n",
    "key_5 = 0\n",
    "key_6  = 0 #  赤口\n",
    "key_7  = 0 #  仏滅\n",
    "key_8  = 0 #  友引\n",
    "key_9  = 0 #  先勝\n",
    "key_10 = 0 #  先負\n",
    "key_11 = 0 #  大安\n",
    "\n",
    "\"\"\"\n",
    "先勝・友引・先負・仏滅・大安・赤口\n",
    "\"\"\"\n",
    "for _i in range(len(NUMBERS)):\n",
    "    _time = NUMBERS[_i][0]\n",
    "    _y = NUMBERS[_i][2]\n",
    "    _x = NUMBERS3[_i][_time]\n",
    "    _z = NUMBERS[_i][4]\n",
    "    for _k, _v in enumerate(_x):\n",
    "        # if len(list(set(_y) & set(_v))) >= 2:\n",
    "        if len(list(set(_y) & set(_v))) >= 2 and _z == \"大安\":\n",
    "            if _k == 0:\n",
    "                key_0 += 1\n",
    "            elif _k == 1:\n",
    "                key_1 += 1\n",
    "            elif _k == 2:\n",
    "                key_2 += 1\n",
    "            elif _k == 3:\n",
    "                key_3 += 1\n",
    "            elif _k == 4:\n",
    "                key_4 += 1\n",
    "            elif _k == 5:\n",
    "                key_5 += 1\n",
    "                \n",
    "            if _z == \"赤口\":\n",
    "                key_6 += 1\n",
    "            elif _z == \"仏滅\":\n",
    "                key_7 += 1\n",
    "            elif _z == \"友引\":\n",
    "                key_8 += 1\n",
    "            elif _z == \"先勝\":\n",
    "                key_9 += 1\n",
    "            elif _z == \"先負\":\n",
    "                key_10 += 1\n",
    "            elif _z == \"大安\":\n",
    "                key_11 += 1\n",
    "            \n",
    "            \n",
    "            _format = \"{0}回 {1}:{2}({3}) [{4}]\".format(_time, _y, _x[_k], _k, _z)\n",
    "            # print(_time, _y, _v)\n",
    "            # print(_format)\n",
    "            pass\n",
    "_sum     = sum([key_0, key_1, key_2, key_3, key_4, key_5])\n",
    "_format1 = \"前回:{0}個, 前々回:{1}個, 前回曜日:{2}個, 前々回曜日:{3}個, 前回六曜:{4}個, 前々回六曜:{5}個\".format(key_0, key_1, key_2, key_3, key_4, key_5)\n",
    "_format2 = \"赤口:{0}個, 仏滅:{1}個, 友引:{2}個 先勝:{3}個, 先負:{4}個, 大安:{5}個\".format(key_6, key_7, key_8, key_9, key_10, key_11)\n",
    "\n",
    "data = {\n",
    "    \"base\": [key_0, key_1, key_2, key_3, key_4, key_5],\n",
    "    \"old_week\": [key_6, key_7, key_8, key_9, key_10, key_11]\n",
    "}\n",
    "_data = pd.DataFrame(data)\n",
    "print(_format1)\n",
    "print(_format2)\n",
    "\n",
    "# sns.countplot(x=\"old_week\", data=_data)\n"
   ]
  },
  {
   "cell_type": "code",
   "execution_count": 29,
   "metadata": {},
   "outputs": [
    {
     "data": {
      "text/plain": [
       "'\\n予測したものから、\\n(y, [x1, x2])\\nx1: 予測した数字\\nx2: 重複しなかった数字の合計\\n'"
      ]
     },
     "execution_count": 29,
     "metadata": {},
     "output_type": "execute_result"
    }
   ],
   "source": [
    "# 4941\n",
    "test = [\"193\", \"413\", \"557\", \"648\", \"653\", \"669\"] # 642 -> 464\n",
    "# 0 -> 0\n",
    "# 1 -> 2\n",
    "# 2 -> 0\n",
    "# 3 -> 2\n",
    "# 4 -> 2\n",
    "# 5 -> 3\n",
    "# 6 -> 3\n",
    "# 7 -> 1\n",
    "# 8 -> 1\n",
    "# 9 -> 2\n",
    "\n",
    "# 4931\n",
    "test = [\"797\", \"513\", \"393\", \"909\", \"496\", \"934\"] # 648 -> 480\n",
    "\n",
    "# 4927 \n",
    "test = [\"393\", \"531\", \"851\", \"402\", \"934\", \"604\"] # 496 -> 499\n",
    "\n",
    "# 4919 \n",
    "test = [\"003\", \"402\", \"299\", \"002\", \"909\", \"372\"] # 604 -> 466\n",
    "\n",
    "\"\"\"\n",
    "予測したものから、\n",
    "(y, [x1, x2])\n",
    "x1: 予測した数字\n",
    "x2: 重複しなかった数字の合計\n",
    "\"\"\""
   ]
  },
  {
   "cell_type": "markdown",
   "metadata": {},
   "source": [
    "### 調査2"
   ]
  },
  {
   "cell_type": "code",
   "execution_count": 4,
   "metadata": {},
   "outputs": [],
   "source": [
    "X = []\n",
    "Y = []\n",
    "Z = []\n",
    "LOCK = {}\n",
    "for _i in range(len(NUMBERS)):\n",
    "    _time = NUMBERS[_i][0]\n",
    "    _y = NUMBERS[_i][2]\n",
    "    _x = NUMBERS3[_i][_time]\n",
    "    lock = []\n",
    "    hook = []\n",
    "    key_0 = 0\n",
    "    key_1 = 0\n",
    "    key_2 = 0\n",
    "    key_3 = 0\n",
    "    key_4 = 0\n",
    "    key_5 = 0\n",
    "    key_6 = 0\n",
    "    key_7 = 0\n",
    "    key_8 = 0\n",
    "    key_9 = 0\n",
    "    for _n in _x:\n",
    "        if _time == _time:\n",
    "            _h = list(_n)\n",
    "            for _j in _h:\n",
    "                if _j == '0':\n",
    "                    key_0 += 1\n",
    "                elif _j == '1':\n",
    "                    key_1 += 1\n",
    "                elif _j == '2':\n",
    "                    key_2 += 1\n",
    "                elif _j == '3':\n",
    "                    key_3 += 1\n",
    "                elif _j == '4':\n",
    "                    key_4 += 1\n",
    "                elif _j == '5':\n",
    "                    key_5 += 1\n",
    "                elif _j == '6':\n",
    "                    key_6 += 1\n",
    "                elif _j == '7':\n",
    "                    key_7 += 1\n",
    "                elif _j == '8':\n",
    "                    key_8 += 1\n",
    "                elif _j == '9':\n",
    "                    key_9 += 1\n",
    "            lock.append(list(_n))\n",
    "    data = {\n",
    "        \"0\": str(int(key_0) + 1),\n",
    "        \"1\": str(int(key_1) + 1),\n",
    "        \"2\": str(int(key_2) + 1),\n",
    "        \"3\": str(int(key_3) + 1),\n",
    "        \"4\": str(int(key_4) + 1),\n",
    "        \"5\": str(int(key_5) + 1),\n",
    "        \"6\": str(int(key_6) + 1),\n",
    "        \"7\": str(int(key_7) + 1),\n",
    "        \"8\": str(int(key_8) + 1),\n",
    "        \"9\": str(int(key_9) + 1),\n",
    "    }\n",
    "    LOCK.update({ _time: [key_0, key_1, key_2, key_3, key_4, key_5, key_6, key_7, key_8, key_9]})\n",
    "    Z.append(data)\n",
    "    X.append(lock)\n",
    "    \n",
    "lock = pd.DataFrame(LOCK)"
   ]
  },
  {
   "cell_type": "markdown",
   "metadata": {},
   "source": [
    "#### 調査3"
   ]
  },
  {
   "cell_type": "code",
   "execution_count": null,
   "metadata": {},
   "outputs": [],
   "source": [
    "OLD_WEEK = \"仏滅\""
   ]
  },
  {
   "cell_type": "code",
   "execution_count": null,
   "metadata": {},
   "outputs": [],
   "source": [
    "X    = []\n",
    "Y    = []\n",
    "TIME = []\n",
    "\n",
    "\"\"\"\n",
    "先勝・友引・先負・仏滅・大安・赤口\n",
    "\"\"\"\n",
    "\n",
    "for _i in range(len(NUMBERS)):\n",
    "    _time = NUMBERS[_i][0]\n",
    "    _y = NUMBERS[_i][2]\n",
    "    if _z == \"大安\":\n",
    "    elif _z == \"友引\":\n",
    "    elif _z == \"先勝\":\n",
    "    elif _z == \"仏滅\":\n",
    "    elif _z == \"\":\n",
    "    elif _z == \"\":\n",
    "    _x1 = NUMBERS3[_i][_time][0]\n",
    "    _x2 = NUMBERS3[_i][_time][2]\n",
    "    _x3 = NUMBERS3[_i][_time][3]\n",
    "    _z = NUMBERS[_i][4]\n",
    "    # if len(list(set(_y) & set(_x1))) >= 2 or len(list(set(_y) & set(_x2))) >= 2 or _z == \"赤口\":\n",
    "    if len(list(set(_y) & set(_x1))) >= 2 or len(list(set(_y) & set(_x2))) >= 2 or len(list(set(_y) & set(_x3))) and _z == \"赤口\":\n",
    "        Y.append(_y)\n",
    "        X.append([_x1, _x2, _x3])\n",
    "        TIME.append(_time)\n",
    "        pass\n",
    "    # Y.append(_y)\n",
    "    # X.append([_x1, _x2, _x3])\n",
    "    # TIME.append(_time)"
   ]
  },
  {
   "cell_type": "markdown",
   "metadata": {},
   "source": [
    "### 1. 前回のナンバーを特徴量とする"
   ]
  },
  {
   "cell_type": "code",
   "execution_count": 2,
   "metadata": {},
   "outputs": [],
   "source": [
    "X = []\n",
    "Y = []\n",
    "for _i in range(len(NUMBERS)):\n",
    "    _time = NUMBERS[_i][0]\n",
    "    _y = NUMBERS[_i][2]\n",
    "    _x = NUMBERS3[_i][_time][0]\n",
    "    if len(list(set(_y) & set(_x))) >= 3:\n",
    "        #print(\"{0} -> {1}:{2}\".format(_time, _y, _x))\n",
    "        Y.append(_y)\n",
    "        X.append([_x])"
   ]
  },
  {
   "cell_type": "markdown",
   "metadata": {},
   "source": [
    "### 2. 前回の六曜のナンバーを特徴量とする"
   ]
  },
  {
   "cell_type": "code",
   "execution_count": 33,
   "metadata": {},
   "outputs": [],
   "source": [
    "X = []\n",
    "Y = []\n",
    "TIME = []\n",
    "for _i in range(len(NUMBERS)):\n",
    "    _time = NUMBERS[_i][0]\n",
    "    _y = NUMBERS[_i][2]\n",
    "    _x = NUMBERS3[_i][_time][4]\n",
    "    if len(list(set(_y) & set(_x))) >= 3:\n",
    "        # print(\"{0} -> {1}:{2}\".format(_time, _y, _x))\n",
    "        Y.append(_y)\n",
    "        X.append([_x])\n",
    "        TIME.append(_time)"
   ]
  },
  {
   "cell_type": "markdown",
   "metadata": {},
   "source": [
    "### 3. 前回のナンバーと前回の六曜のナンバーを特徴量とする"
   ]
  },
  {
   "cell_type": "code",
   "execution_count": 32,
   "metadata": {},
   "outputs": [],
   "source": [
    "X = []\n",
    "Y = []\n",
    "TIME = []\n",
    "for _i in range(len(NUMBERS)):\n",
    "    _time = NUMBERS[_i][0]\n",
    "    _y = NUMBERS[_i][2]\n",
    "    _x1 = NUMBERS3[_i][_time][4]\n",
    "    _x2 = NUMBERS3[_i][_time][0]\n",
    "    _z = NUMBERS[_i][4]\n",
    "    if len(list(set(_y) & set(_x1))) >= 2 or len(list(set(_y) & set(_x2))) >= 2:\n",
    "        # Y.append(_y)\n",
    "        # X.append([_x1, _x2])\n",
    "        # TIME.append(_time)\n",
    "        pass\n",
    "    if _z == \"先負\":\n",
    "        Y.append(_y)\n",
    "        X.append([_x1, _x2])\n",
    "        TIME.append(_time)"
   ]
  },
  {
   "cell_type": "markdown",
   "metadata": {},
   "source": [
    "### 4. 抽選数を特徴量とする"
   ]
  },
  {
   "cell_type": "code",
   "execution_count": 22,
   "metadata": {},
   "outputs": [],
   "source": [
    "X = []\n",
    "Y = []\n",
    "TIME = []\n",
    "for _i in range(len(NUMBERS3_RESULT)):\n",
    "    _time = NUMBERS[_i][0]\n",
    "    _y = NUMBERS[_i][2]\n",
    "    _x = NUMBERS3_RESULT[_i][_time]\n",
    "    _z = NUMBERS[_i][4]\n",
    "    if _z == \"大安\": # 20160626\n",
    "        Y.append(_y)\n",
    "        X.append(_x)\n",
    "        TIME.append(_time)"
   ]
  },
  {
   "cell_type": "markdown",
   "metadata": {},
   "source": [
    "#### 5. 前回のナンバーと前回曜日ナンバーと前回六曜日のナンバーを特徴量とする"
   ]
  },
  {
   "cell_type": "code",
   "execution_count": 4,
   "metadata": {},
   "outputs": [],
   "source": [
    "X    = []\n",
    "Y    = []\n",
    "TIME = []\n",
    "\n",
    "\"\"\"\n",
    "先勝・友引・先負・仏滅・大安・赤口\n",
    "\"\"\"\n",
    "\n",
    "for _i in range(len(NUMBERS)):\n",
    "    _time = NUMBERS[_i][0]\n",
    "    _y = NUMBERS[_i][2]\n",
    "    _x1 = NUMBERS3[_i][_time][0]\n",
    "    _x2 = NUMBERS3[_i][_time][2]\n",
    "    _x3 = NUMBERS3[_i][_time][4]\n",
    "    _z = NUMBERS[_i][4]\n",
    "    if len(list(set(_y) & set(_x1))) >= 2 or len(list(set(_y) & set(_x2))) >= 2 or _z == \"仏滅\":\n",
    "        Y.append(_y)\n",
    "        X.append([_x1, _x2, _x3])\n",
    "        TIME.append(_time)\n",
    "        pass"
   ]
  },
  {
   "cell_type": "markdown",
   "metadata": {},
   "source": [
    "#### 前々回のナンバーと前々回曜日のナンバーと前々回六曜のナンバー (仏滅)(大安)"
   ]
  },
  {
   "cell_type": "code",
   "execution_count": 7,
   "metadata": {},
   "outputs": [],
   "source": [
    "X    = []\n",
    "Y    = []\n",
    "TIME = []\n",
    "\n",
    "\"\"\"\n",
    "先勝・友引・先負・仏滅・大安・赤口\n",
    "\"\"\"\n",
    "\n",
    "for _i in range(len(NUMBERS)):\n",
    "    _time = NUMBERS[_i][0]\n",
    "    _y = NUMBERS[_i][2]\n",
    "    _x1 = NUMBERS3[_i][_time][1]\n",
    "    _x2 = NUMBERS3[_i][_time][3]\n",
    "    _x3 = NUMBERS3[_i][_time][5]\n",
    "    _z = NUMBERS[_i][4]\n",
    "    if not len(list(set(_y) & set(_x1))) >= 2 and not len(list(set(_y) & set(_x2))) >= 2 and _z == \"大安\":\n",
    "        Y.append(_y)\n",
    "        X.append([_x1, _x2, _x3])\n",
    "        TIME.append(_time)\n",
    "        pass"
   ]
  },
  {
   "cell_type": "markdown",
   "metadata": {},
   "source": [
    "#### 前回のナンバーと前回曜日のナンバーと前々回曜日のナンバーを特徴量とする (赤口)"
   ]
  },
  {
   "cell_type": "code",
   "execution_count": 18,
   "metadata": {},
   "outputs": [],
   "source": [
    "X    = []\n",
    "Y    = []\n",
    "TIME = []\n",
    "\n",
    "\"\"\"\n",
    "先勝・友引・先負・仏滅・大安・赤口\n",
    "\"\"\"\n",
    "\n",
    "for _i in range(len(NUMBERS)):\n",
    "    _time = NUMBERS[_i][0]\n",
    "    _y = NUMBERS[_i][2]\n",
    "    _x1 = NUMBERS3[_i][_time][0]\n",
    "    _x2 = NUMBERS3[_i][_time][2]\n",
    "    _x3 = NUMBERS3[_i][_time][3]\n",
    "    _z = NUMBERS[_i][4]\n",
    "    # if len(list(set(_y) & set(_x1))) >= 2 or len(list(set(_y) & set(_x2))) >= 2 or _z == \"赤口\":\n",
    "    if len(list(set(_y) & set(_x1))) >= 2 or len(list(set(_y) & set(_x2))) >= 2 or len(list(set(_y) & set(_x3))) and _z == \"赤口\":\n",
    "        Y.append(_y)\n",
    "        X.append([_x1, _x2, _x3])\n",
    "        TIME.append(_time)\n",
    "        pass"
   ]
  },
  {
   "cell_type": "markdown",
   "metadata": {},
   "source": [
    "#### 前々回のナンバーと前回曜日のナンバーと前回六曜のナンバーを特徴量とする (先勝)"
   ]
  },
  {
   "cell_type": "code",
   "execution_count": 17,
   "metadata": {},
   "outputs": [],
   "source": [
    "X    = []\n",
    "Y    = []\n",
    "TIME = []\n",
    "\n",
    "\"\"\"\n",
    "先勝・友引・先負・仏滅・大安・赤口\n",
    "\"\"\"\n",
    "\n",
    "for _i in range(len(NUMBERS)):\n",
    "    _time = NUMBERS[_i][0]\n",
    "    _y = NUMBERS[_i][2]\n",
    "    _x1 = NUMBERS3[_i][_time][1]\n",
    "    _x2 = NUMBERS3[_i][_time][2]\n",
    "    _x3 = NUMBERS3[_i][_time][4]\n",
    "    _z = NUMBERS[_i][4]\n",
    "    # if _z == \"先勝\":\n",
    "    if not len(list(set(_y) & set(_x1))) >= 2 and not len(list(set(_y) & set(_x2))) >= 2 and _z == \"先勝\":\n",
    "    # if len(list(set(_y) & set(_x1))) >= 2 or len(list(set(_y) & set(_x2))) >= 2 or len(list(set(_y) & set(_x3))) and _z == \"赤口\":\n",
    "        Y.append(_y)\n",
    "        X.append([_x1, _x2, _x3])\n",
    "        TIME.append(_time)\n",
    "        pass"
   ]
  },
  {
   "cell_type": "markdown",
   "metadata": {},
   "source": [
    "#### 前回のナンバーと前回曜日のナンバーと前々回六曜のナンバーを特徴量とする (友引)"
   ]
  },
  {
   "cell_type": "code",
   "execution_count": null,
   "metadata": {},
   "outputs": [],
   "source": [
    "X    = []\n",
    "Y    = []\n",
    "TIME = []\n",
    "\n",
    "for _i in range(len(NUMBERS)):\n",
    "    _time = NUMBERS[_i][0]\n",
    "    _y = NUMBERS[_i][2]\n",
    "    _x1 = NUMBERS3[_i][_time][1]\n",
    "    _x2 = NUMBERS3[_i][_time][2]\n",
    "    _x3 = NUMBERS3[_i][_time][4]\n",
    "    _z = NUMBERS[_i][4]\n",
    "    # if _z == \"先勝\":\n",
    "    if not len(list(set(_y) & set(_x1))) >= 2 and not len(list(set(_y) & set(_x2))) >= 2 and _z == \"友引\":\n",
    "    # if len(list(set(_y) & set(_x1))) >= 2 or len(list(set(_y) & set(_x2))) >= 2 or len(list(set(_y) & set(_x3))) and _z == \"赤口\":\n",
    "        Y.append(_y)\n",
    "        X.append([_x1, _x2, _x3])\n",
    "        TIME.append(_time)\n",
    "        pass"
   ]
  },
  {
   "cell_type": "markdown",
   "metadata": {},
   "source": [
    "#### (先負)"
   ]
  },
  {
   "cell_type": "markdown",
   "metadata": {},
   "source": [
    "#### 予測スタート"
   ]
  },
  {
   "cell_type": "code",
   "execution_count": 23,
   "metadata": {},
   "outputs": [],
   "source": [
    "y = pd.DataFrame(Y)\n",
    "x = pd.DataFrame(X)"
   ]
  },
  {
   "cell_type": "code",
   "execution_count": 24,
   "metadata": {},
   "outputs": [
    {
     "data": {
      "text/plain": [
       "64"
      ]
     },
     "execution_count": 24,
     "metadata": {},
     "output_type": "execute_result"
    }
   ],
   "source": [
    "len(y)"
   ]
  },
  {
   "cell_type": "code",
   "execution_count": 25,
   "metadata": {},
   "outputs": [
    {
     "data": {
      "text/plain": [
       "LinearRegression(copy_X=True, fit_intercept=True, n_jobs=1, normalize=False)"
      ]
     },
     "execution_count": 25,
     "metadata": {},
     "output_type": "execute_result"
    }
   ],
   "source": [
    "model = linear_model.LinearRegression()\n",
    "model.fit(X, Y)"
   ]
  },
  {
   "cell_type": "code",
   "execution_count": 26,
   "metadata": {},
   "outputs": [],
   "source": [
    "px = x\n",
    "py = model.predict(px)"
   ]
  },
  {
   "cell_type": "code",
   "execution_count": 27,
   "metadata": {},
   "outputs": [
    {
     "name": "stdout",
     "output_type": "stream",
     "text": [
      "第4909回: 002<-502.8777711383221   予測:[0, 4, 0, 2, 2, 2, 2, 2, 2, 2]\n",
      "第4814回: 043<-503.4055508373271   予測:[0, 2, 6, 0, 1, 0, 2, 3, 4, 0]\n",
      "第4675回: 570<-530.7877149716259   予測:[2, 2, 2, 3, 3, 1, 1, 2, 1, 1]\n",
      "第4642回: 439<-496.31439633318956   予測:[3, 1, 0, 3, 2, 2, 3, 3, 1, 0]\n",
      "第4609回: 157<-512.4328669528621   予測:[1, 1, 2, 1, 2, 1, 1, 2, 5, 2]\n",
      "第4572回: 076<-560.1814553452564   予測:[1, 1, 0, 4, 2, 0, 1, 5, 3, 1]\n",
      "6\n"
     ]
    }
   ],
   "source": [
    "NUM = []\n",
    "for _i in range(len(py)):\n",
    "    _py = str(int(py[_i]))\n",
    "    for _k, _v in enumerate(NUMBERS):\n",
    "        if _v[0] == TIME[_i]:\n",
    "            if len(list(set(_v[2]) & set(_py))) >= 2:\n",
    "                _format = \"第{0}回: {1}<-{2}   予測:{3}\".format(TIME[_i], _v[2], py[_i], LOCK[_v[0]])\n",
    "                print(_format)\n",
    "                NUM.append([TIME[_i], _v[2], py[_i], LOCK[_v[0]]])\n",
    "                pass\n",
    "            # print(TIME[_i], _v[2], py[_i])\n",
    "print(len(NUM))"
   ]
  },
  {
   "cell_type": "markdown",
   "metadata": {},
   "source": [
    "## 決定係数"
   ]
  },
  {
   "cell_type": "code",
   "execution_count": 28,
   "metadata": {},
   "outputs": [
    {
     "data": {
      "text/plain": [
       "0.034003078176132684"
      ]
     },
     "execution_count": 28,
     "metadata": {},
     "output_type": "execute_result"
    }
   ],
   "source": [
    "r2_score(y, py)"
   ]
  },
  {
   "cell_type": "code",
   "execution_count": 29,
   "metadata": {},
   "outputs": [
    {
     "data": {
      "text/plain": [
       "0.034003078176132684"
      ]
     },
     "execution_count": 29,
     "metadata": {},
     "output_type": "execute_result"
    }
   ],
   "source": [
    "model.score(x, y)"
   ]
  },
  {
   "cell_type": "code",
   "execution_count": 30,
   "metadata": {},
   "outputs": [
    {
     "data": {
      "text/plain": [
       "-1.7030465771165635"
      ]
     },
     "execution_count": 30,
     "metadata": {},
     "output_type": "execute_result"
    }
   ],
   "source": [
    "model.coef_[0]"
   ]
  },
  {
   "cell_type": "markdown",
   "metadata": {},
   "source": [
    "## 予測"
   ]
  },
  {
   "cell_type": "code",
   "execution_count": 31,
   "metadata": {},
   "outputs": [],
   "source": [
    "pkl_file = \"data/numbers3_20180626.pkl\""
   ]
  },
  {
   "cell_type": "markdown",
   "metadata": {},
   "source": [
    "#### 前回のナンバーと前回六曜のナンバー"
   ]
  },
  {
   "cell_type": "code",
   "execution_count": 42,
   "metadata": {},
   "outputs": [],
   "source": [
    "data = [float(\"765\"), float(\"642\")] # 20180618"
   ]
  },
  {
   "cell_type": "markdown",
   "metadata": {},
   "source": [
    "##### 前回のナンバー, 前回曜日のナンバー, 前回六曜ナンバー"
   ]
  },
  {
   "cell_type": "code",
   "execution_count": 145,
   "metadata": {},
   "outputs": [],
   "source": [
    "data = [float(\"182\"), float(\"642\"), float(\"487\")] # 20180620"
   ]
  },
  {
   "cell_type": "markdown",
   "metadata": {},
   "source": [
    " #### 前々回のナンバー、前々回曜日のナンバー、前々回六曜のナンバー (仏滅)(大安)"
   ]
  },
  {
   "cell_type": "code",
   "execution_count": 17,
   "metadata": {},
   "outputs": [],
   "source": [
    "data = [float(\"001\"), float(\"195\"), float(\"487\")] # 20180626"
   ]
  },
  {
   "cell_type": "markdown",
   "metadata": {},
   "source": [
    "#### 前回のナンバー、前回曜日のナンバー、前々回曜のナンバー (赤口)"
   ]
  },
  {
   "cell_type": "code",
   "execution_count": 198,
   "metadata": {},
   "outputs": [],
   "source": [
    "data = [float(\"912\"), float(\"487\"), float(\"653\")] # 20180621"
   ]
  },
  {
   "cell_type": "markdown",
   "metadata": {},
   "source": [
    "#### 前々回のナンバー、前回曜日のナンバー、前回六曜のナンバー (先勝)"
   ]
  },
  {
   "cell_type": "code",
   "execution_count": 177,
   "metadata": {},
   "outputs": [],
   "source": [
    "data = [float(\"018\"), float(\"119\"), float(\"182\")] # 20180622"
   ]
  },
  {
   "cell_type": "markdown",
   "metadata": {},
   "source": [
    "##### 抽選数"
   ]
  },
  {
   "cell_type": "code",
   "execution_count": 32,
   "metadata": {},
   "outputs": [
    {
     "name": "stdout",
     "output_type": "stream",
     "text": [
      "80 448 186 819\n"
     ]
    }
   ],
   "source": [
    "from statistics import mean, median,variance,stdev\n",
    "\n",
    "X0 = []\n",
    "X1 = []\n",
    "X2 = []\n",
    "X3 = []\n",
    "for _i in range(len(NUMBERS3_RESULT)):\n",
    "    _time = NUMBERS[_i][0]\n",
    "    _y = NUMBERS[_i][2]\n",
    "    _x0 = NUMBERS3_RESULT[_i][_time][0]\n",
    "    _x1 = NUMBERS3_RESULT[_i][_time][1]\n",
    "    _x2 = NUMBERS3_RESULT[_i][_time][2]\n",
    "    _x3 = NUMBERS3_RESULT[_i][_time][3]\n",
    "    X0.append(int(_x0))\n",
    "    X1.append(int(_x1))\n",
    "    X2.append(int(_x2))\n",
    "    X3.append(int(_x3))\n",
    "    \n",
    "\n",
    "x0 = int(mean(X0))\n",
    "x1 = int(mean(X1))\n",
    "x2 = int(mean(X2))\n",
    "x3 = int(mean(X3))\n",
    "print(x0, x1, x2, x3)\n",
    "\n",
    "# 20180625\n",
    "# data = [float(\"0\"), float(\"0\"), float(\"0\"), float(\"0\")]\n",
    "# data = [float(\"50\"), float(\"50\"), float(\"50\"), float(\"50\")]\n",
    "data = [float(str(x0)), float(str(x1)), float(str(x2)), float(str(x3))]"
   ]
  },
  {
   "cell_type": "code",
   "execution_count": 33,
   "metadata": {},
   "outputs": [
    {
     "data": {
      "text/plain": [
       "['data/numbers3_20180626.pkl']"
      ]
     },
     "execution_count": 33,
     "metadata": {},
     "output_type": "execute_result"
    }
   ],
   "source": [
    "joblib.dump(model, pkl_file)"
   ]
  },
  {
   "cell_type": "code",
   "execution_count": 34,
   "metadata": {},
   "outputs": [],
   "source": [
    "clf = joblib.load(pkl_file)"
   ]
  },
  {
   "cell_type": "code",
   "execution_count": 35,
   "metadata": {},
   "outputs": [],
   "source": [
    "processor = clf.predict([data])"
   ]
  },
  {
   "cell_type": "code",
   "execution_count": 36,
   "metadata": {},
   "outputs": [
    {
     "data": {
      "text/plain": [
       "array([500.54100843])"
      ]
     },
     "execution_count": 36,
     "metadata": {},
     "output_type": "execute_result"
    }
   ],
   "source": [
    "processor"
   ]
  },
  {
   "cell_type": "code",
   "execution_count": null,
   "metadata": {},
   "outputs": [],
   "source": []
  }
 ],
 "metadata": {
  "kernelspec": {
   "display_name": "Python 3",
   "language": "python",
   "name": "python3"
  },
  "language_info": {
   "codemirror_mode": {
    "name": "ipython",
    "version": 3
   },
   "file_extension": ".py",
   "mimetype": "text/x-python",
   "name": "python",
   "nbconvert_exporter": "python",
   "pygments_lexer": "ipython3",
   "version": "3.6.2"
  }
 },
 "nbformat": 4,
 "nbformat_minor": 2
}
