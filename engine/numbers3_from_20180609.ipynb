{
 "cells": [
  {
   "cell_type": "markdown",
   "metadata": {},
   "source": [
    "## インポート"
   ]
  },
  {
   "cell_type": "code",
   "execution_count": 1,
   "metadata": {},
   "outputs": [],
   "source": [
    "from config import NUMBERS, NUMBERS3, NUMBERS4, NUMBERS3_RESULT, NUMBERS4_RESULT\n",
    "import sys\n",
    "import re\n",
    "import difflib\n",
    "import matplotlib\n",
    "import matplotlib.pyplot as plt\n",
    "import pandas as pd\n",
    "import numpy as np\n",
    "import seaborn as sns\n",
    "from sklearn import linear_model\n",
    "from sklearn.metrics import (mean_absolute_error,\n",
    "                             mean_squared_error,\n",
    "                             r2_score)\n",
    "from sklearn.model_selection import train_test_split\n",
    "from sklearn.externals import joblib\n",
    "\n",
    "plt.rcParams['font.family'] = 'AppleGothic'\n",
    "\n",
    "%load_ext autoreload\n",
    "%autoreload 2"
   ]
  },
  {
   "cell_type": "markdown",
   "metadata": {},
   "source": [
    "##### 調査 その1"
   ]
  },
  {
   "cell_type": "code",
   "execution_count": 85,
   "metadata": {},
   "outputs": [
    {
     "name": "stdout",
     "output_type": "stream",
     "text": [
      "前回:140個, 前々回:148個, 前回曜日:149個, 前々回曜日:150個, 前回六曜:143個, 前々回六曜:140個\n",
      "赤口:126個, 仏滅:126個, 友引:158個 先勝:177個, 先負:134個, 大安:149個\n"
     ]
    }
   ],
   "source": [
    "X = []\n",
    "Y = []\n",
    "Z = []\n",
    "key_0 = 0\n",
    "key_1 = 0\n",
    "key_2 = 0\n",
    "key_3 = 0\n",
    "key_4 = 0\n",
    "key_5 = 0\n",
    "key_6  = 0 #  赤口\n",
    "key_7  = 0 #  仏滅\n",
    "key_8  = 0 #  友引\n",
    "key_9  = 0 #  先勝\n",
    "key_10 = 0 #  先負\n",
    "key_11 = 0 #  大安\n",
    "\n",
    "\"\"\"\n",
    "先勝・友引・先負・仏滅・大安・赤口\n",
    "\"\"\"\n",
    "for _i in range(len(NUMBERS)):\n",
    "    _time = NUMBERS[_i][0]\n",
    "    _y = NUMBERS[_i][2]\n",
    "    _x = NUMBERS3[_i][_time]\n",
    "    _z = NUMBERS[_i][4]\n",
    "    for _k, _v in enumerate(_x):\n",
    "        if len(list(set(_y) & set(_v))) >= 2:\n",
    "        # if len(list(set(_y) & set(_v))) >= 3 and _z == \"先負\":\n",
    "            if _k == 0:\n",
    "                key_0 += 1\n",
    "            elif _k == 1:\n",
    "                key_1 += 1\n",
    "            elif _k == 2:\n",
    "                key_2 += 1\n",
    "            elif _k == 3:\n",
    "                key_3 += 1\n",
    "            elif _k == 4:\n",
    "                key_4 += 1\n",
    "            elif _k == 5:\n",
    "                key_5 += 1\n",
    "                \n",
    "            if _z == \"赤口\":\n",
    "                key_6 += 1\n",
    "            elif _z == \"仏滅\":\n",
    "                key_7 += 1\n",
    "            elif _z == \"友引\":\n",
    "                key_8 += 1\n",
    "            elif _z == \"先勝\":\n",
    "                key_9 += 1\n",
    "            elif _z == \"先負\":\n",
    "                key_10 += 1\n",
    "            elif _z == \"大安\":\n",
    "                key_11 += 1\n",
    "            \n",
    "            \n",
    "            _format = \"{0}回 {1}:{2}({3}) [{4}]\".format(_time, _y, _x[_k], _k, _z)\n",
    "            # print(_time, _y, _v)\n",
    "            # print(_format)\n",
    "            pass\n",
    "_sum     = sum([key_0, key_1, key_2, key_3, key_4, key_5])\n",
    "_format1 = \"前回:{0}個, 前々回:{1}個, 前回曜日:{2}個, 前々回曜日:{3}個, 前回六曜:{4}個, 前々回六曜:{5}個\".format(key_0, key_1, key_2, key_3, key_4, key_5)\n",
    "_format2 = \"赤口:{0}個, 仏滅:{1}個, 友引:{2}個 先勝:{3}個, 先負:{4}個, 大安:{5}個\".format(key_6, key_7, key_8, key_9, key_10, key_11)\n",
    "\n",
    "data = {\n",
    "    \"base\": [key_0, key_1, key_2, key_3, key_4, key_5],\n",
    "    \"old_week\": [key_6, key_7, key_8, key_9, key_10, key_11]\n",
    "}\n",
    "_data = pd.DataFrame(data)\n",
    "print(_format1)\n",
    "print(_format2)\n",
    "\n",
    "# sns.countplot(x=\"old_week\", data=_data)\n"
   ]
  },
  {
   "cell_type": "code",
   "execution_count": 102,
   "metadata": {},
   "outputs": [
    {
     "data": {
      "text/plain": [
       "'\\n予測したものから、\\n(y, [x1, x2])\\nx1: 予測した数字\\nx2: 重複しなかった数字の合計\\n'"
      ]
     },
     "execution_count": 102,
     "metadata": {},
     "output_type": "execute_result"
    }
   ],
   "source": [
    "# 4941\n",
    "test = [\"193\", \"413\", \"557\", \"648\", \"653\", \"669\"] # 642 -> 464\n",
    "# 0 -> 0\n",
    "# 1 -> 2\n",
    "# 2 -> 0\n",
    "# 3 -> 2\n",
    "# 4 -> 2\n",
    "# 5 -> 3\n",
    "# 6 -> 3\n",
    "# 7 -> 1\n",
    "# 8 -> 1\n",
    "# 9 -> 2\n",
    "\n",
    "# 4931\n",
    "test = [\"797\", \"513\", \"393\", \"909\", \"496\", \"934\"] # 648 -> 480\n",
    "\n",
    "# 4927 \n",
    "test = [\"393\", \"531\", \"851\", \"402\", \"934\", \"604\"] # 496 -> 499\n",
    "\n",
    "# 4919 \n",
    "test = [\"003\", \"402\", \"299\", \"002\", \"909\", \"372\"] # 604 -> 466\n",
    "\n",
    "\"\"\"\n",
    "予測したものから、\n",
    "(y, [x1, x2])\n",
    "x1: 予測した数字\n",
    "x2: 重複しなかった数字の合計\n",
    "\"\"\""
   ]
  },
  {
   "cell_type": "code",
   "execution_count": 106,
   "metadata": {},
   "outputs": [
    {
     "name": "stdout",
     "output_type": "stream",
     "text": [
      "4756 -> 222:276\n",
      "aaaaaaaa\n",
      "4611 -> 111:449\n",
      "aaaaaaaa\n",
      "4520 -> 111:217\n",
      "aaaaaaaa\n",
      "4477 -> 111:431\n",
      "aaaaaaaa\n",
      "4288 -> 999:784\n",
      "aaaaaaaa\n",
      "4127 -> 222:164\n",
      "aaaaaaaa\n",
      "4061 -> 222:048\n",
      "aaaaaaaa\n",
      "4024 -> 000:426\n",
      "aaaaaaaa\n",
      "4004 -> 444:799\n",
      "aaaaaaaa\n"
     ]
    }
   ],
   "source": [
    "X = []\n",
    "Y = []\n",
    "for _i in range(len(NUMBERS)):\n",
    "    _time = NUMBERS[_i][0]\n",
    "    _y = NUMBERS[_i][2]\n",
    "    _x = NUMBERS3[_i][_time][0]\n",
    "    if len(list(set(_y) or set(_x))) == 1:\n",
    "        \n",
    "        print(\"{0} -> {1}:{2}\".format(_time, _y, _x))\n",
    "        # print(\"aaaaaaaa\")\n",
    "        Y.append(_y)\n",
    "        X.append([_x])"
   ]
  },
  {
   "cell_type": "markdown",
   "metadata": {},
   "source": [
    "### 1. 前回のナンバーを特徴量とする"
   ]
  },
  {
   "cell_type": "code",
   "execution_count": 2,
   "metadata": {},
   "outputs": [],
   "source": [
    "X = []\n",
    "Y = []\n",
    "for _i in range(len(NUMBERS)):\n",
    "    _time = NUMBERS[_i][0]\n",
    "    _y = NUMBERS[_i][2]\n",
    "    _x = NUMBERS3[_i][_time][0]\n",
    "    if len(list(set(_y) & set(_x))) >= 3:\n",
    "        #print(\"{0} -> {1}:{2}\".format(_time, _y, _x))\n",
    "        Y.append(_y)\n",
    "        X.append([_x])"
   ]
  },
  {
   "cell_type": "markdown",
   "metadata": {},
   "source": [
    "### 2. 前回の六曜のナンバーを特徴量とする"
   ]
  },
  {
   "cell_type": "code",
   "execution_count": 33,
   "metadata": {},
   "outputs": [],
   "source": [
    "X = []\n",
    "Y = []\n",
    "TIME = []\n",
    "for _i in range(len(NUMBERS)):\n",
    "    _time = NUMBERS[_i][0]\n",
    "    _y = NUMBERS[_i][2]\n",
    "    _x = NUMBERS3[_i][_time][4]\n",
    "    if len(list(set(_y) & set(_x))) >= 3:\n",
    "        # print(\"{0} -> {1}:{2}\".format(_time, _y, _x))\n",
    "        Y.append(_y)\n",
    "        X.append([_x])\n",
    "        TIME.append(_time)"
   ]
  },
  {
   "cell_type": "markdown",
   "metadata": {},
   "source": [
    "### 3. 前回のナンバーと前回の六曜のナンバーを特徴量とする"
   ]
  },
  {
   "cell_type": "code",
   "execution_count": 32,
   "metadata": {},
   "outputs": [],
   "source": [
    "X = []\n",
    "Y = []\n",
    "TIME = []\n",
    "for _i in range(len(NUMBERS)):\n",
    "    _time = NUMBERS[_i][0]\n",
    "    _y = NUMBERS[_i][2]\n",
    "    _x1 = NUMBERS3[_i][_time][4]\n",
    "    _x2 = NUMBERS3[_i][_time][0]\n",
    "    _z = NUMBERS[_i][4]\n",
    "    if len(list(set(_y) & set(_x1))) >= 2 or len(list(set(_y) & set(_x2))) >= 2:\n",
    "        # Y.append(_y)\n",
    "        # X.append([_x1, _x2])\n",
    "        # TIME.append(_time)\n",
    "        pass\n",
    "    if _z == \"先負\":\n",
    "        Y.append(_y)\n",
    "        X.append([_x1, _x2])\n",
    "        TIME.append(_time)"
   ]
  },
  {
   "cell_type": "markdown",
   "metadata": {},
   "source": [
    "### 4. 抽選数を特徴量とする"
   ]
  },
  {
   "cell_type": "code",
   "execution_count": 47,
   "metadata": {},
   "outputs": [],
   "source": [
    "X = []\n",
    "Y = []\n",
    "TIME = []\n",
    "for _i in range(len(NUMBERS3_RESULT)):\n",
    "    _time = NUMBERS[_i][0]\n",
    "    _y = NUMBERS[_i][2]\n",
    "    _x = NUMBERS3_RESULT[_i][_time]\n",
    "    Y.append(_y)\n",
    "    X.append(_x)\n",
    "    TIME.append(_time)"
   ]
  },
  {
   "cell_type": "markdown",
   "metadata": {},
   "source": [
    "#### 5. 前々回のナンバーと前回曜日ナンバーと前々回曜日のナンバーを特徴量とする"
   ]
  },
  {
   "cell_type": "code",
   "execution_count": 87,
   "metadata": {},
   "outputs": [],
   "source": [
    "X    = []\n",
    "Y    = []\n",
    "TIME = []\n",
    "\n",
    "\"\"\"\n",
    "先勝・友引・先負・仏滅・大安・赤口\n",
    "\"\"\"\n",
    "\n",
    "for _i in range(len(NUMBERS)):\n",
    "    _time = NUMBERS[_i][0]\n",
    "    _y = NUMBERS[_i][2]\n",
    "    _x1 = NUMBERS3[_i][_time][1]\n",
    "    _x2 = NUMBERS3[_i][_time][2]\n",
    "    _x3 = NUMBERS3[_i][_time][3]\n",
    "    _z = NUMBERS[_i][4]\n",
    "    # if len(list(set(_y) & set(_x1))) >= 2 or len(list(set(_y) & set(_x2))) >= 2:\n",
    "    # _z == \"友引\"\n",
    "    # if len(list(set(_y) & set(_x1))) >= 3 or len(list(set(_y) & set(_x2))) >= 2 and _z == \"友引\":\n",
    "        Y.append(_y)\n",
    "        X.append([_x1, _x2, _x3])\n",
    "        TIME.append(_time)\n",
    "        pass\n",
    "    #Y.append(_y)\n",
    "    #X.append([_x1, _x2, _x3])\n",
    "    #TIME.append(_time)"
   ]
  },
  {
   "cell_type": "markdown",
   "metadata": {},
   "source": [
    "#### 予測スタート"
   ]
  },
  {
   "cell_type": "code",
   "execution_count": 88,
   "metadata": {},
   "outputs": [],
   "source": [
    "y = pd.DataFrame(Y)\n",
    "x = pd.DataFrame(X)"
   ]
  },
  {
   "cell_type": "code",
   "execution_count": 89,
   "metadata": {},
   "outputs": [
    {
     "data": {
      "text/plain": [
       "34"
      ]
     },
     "execution_count": 89,
     "metadata": {},
     "output_type": "execute_result"
    }
   ],
   "source": [
    "len(y)"
   ]
  },
  {
   "cell_type": "code",
   "execution_count": 90,
   "metadata": {},
   "outputs": [
    {
     "data": {
      "text/plain": [
       "LinearRegression(copy_X=True, fit_intercept=True, n_jobs=1, normalize=False)"
      ]
     },
     "execution_count": 90,
     "metadata": {},
     "output_type": "execute_result"
    }
   ],
   "source": [
    "model = linear_model.LinearRegression()\n",
    "model.fit(X, Y)"
   ]
  },
  {
   "cell_type": "code",
   "execution_count": 91,
   "metadata": {},
   "outputs": [],
   "source": [
    "px = x\n",
    "py = model.predict(px)"
   ]
  },
  {
   "cell_type": "code",
   "execution_count": 92,
   "metadata": {},
   "outputs": [
    {
     "name": "stdout",
     "output_type": "stream",
     "text": [
      "4429 724 457.57151877269473\n",
      "4164 402 460.93844698943485\n",
      "3997 963 569.4426432738326\n",
      "3\n"
     ]
    }
   ],
   "source": [
    "NUM = []\n",
    "for _i in range(len(py)):\n",
    "    _py = str(int(py[_i]))\n",
    "    for _k, _v in enumerate(NUMBERS):\n",
    "        if _v[0] == TIME[_i]:\n",
    "            if len(list(set(_v[2]) & set(_py))) >= 2:\n",
    "                print(TIME[_i], _v[2], py[_i])\n",
    "                NUM.append([TIME[_i], _v[2], py[_i]])\n",
    "                pass\n",
    "            # print(TIME[_i], _v[2], py[_i])\n",
    "print(len(NUM))"
   ]
  },
  {
   "cell_type": "markdown",
   "metadata": {},
   "source": [
    "## 決定係数"
   ]
  },
  {
   "cell_type": "code",
   "execution_count": 93,
   "metadata": {},
   "outputs": [
    {
     "data": {
      "text/plain": [
       "0.030786271845054447"
      ]
     },
     "execution_count": 93,
     "metadata": {},
     "output_type": "execute_result"
    }
   ],
   "source": [
    "r2_score(y, py)"
   ]
  },
  {
   "cell_type": "code",
   "execution_count": 94,
   "metadata": {},
   "outputs": [
    {
     "data": {
      "text/plain": [
       "0.03078627184505445"
      ]
     },
     "execution_count": 94,
     "metadata": {},
     "output_type": "execute_result"
    }
   ],
   "source": [
    "model.score(x, y)"
   ]
  },
  {
   "cell_type": "code",
   "execution_count": 95,
   "metadata": {},
   "outputs": [
    {
     "data": {
      "text/plain": [
       "-0.00874720347904486"
      ]
     },
     "execution_count": 95,
     "metadata": {},
     "output_type": "execute_result"
    }
   ],
   "source": [
    "model.coef_[0]"
   ]
  },
  {
   "cell_type": "markdown",
   "metadata": {},
   "source": [
    "## 予測"
   ]
  },
  {
   "cell_type": "code",
   "execution_count": 96,
   "metadata": {},
   "outputs": [],
   "source": [
    "pkl_file = \"data/numbers3_20180618.pkl\""
   ]
  },
  {
   "cell_type": "markdown",
   "metadata": {},
   "source": [
    "#### 前回のナンバーと前回六曜のナンバー"
   ]
  },
  {
   "cell_type": "code",
   "execution_count": 42,
   "metadata": {},
   "outputs": [],
   "source": [
    "data = [float(\"765\"), float(\"642\")] # 20180618"
   ]
  },
  {
   "cell_type": "markdown",
   "metadata": {},
   "source": [
    "##### 前々回のナンバー, 前回曜日のナンバー, 前々回の曜日ナンバー"
   ]
  },
  {
   "cell_type": "code",
   "execution_count": 97,
   "metadata": {},
   "outputs": [],
   "source": [
    "data = [float(\"487\"), float(\"413\"), float(\"173\")] # 20180618"
   ]
  },
  {
   "cell_type": "markdown",
   "metadata": {},
   "source": [
    "##### 抽選数"
   ]
  },
  {
   "cell_type": "code",
   "execution_count": 72,
   "metadata": {},
   "outputs": [
    {
     "name": "stdout",
     "output_type": "stream",
     "text": [
      "80 447 186 817\n"
     ]
    }
   ],
   "source": [
    "from statistics import mean, median,variance,stdev\n",
    "\n",
    "X0 = []\n",
    "X1 = []\n",
    "X2 = []\n",
    "X3 = []\n",
    "for _i in range(len(NUMBERS3_RESULT)):\n",
    "    _time = NUMBERS[_i][0]\n",
    "    _y = NUMBERS[_i][2]\n",
    "    _x0 = NUMBERS3_RESULT[_i][_time][0]\n",
    "    _x1 = NUMBERS3_RESULT[_i][_time][1]\n",
    "    _x2 = NUMBERS3_RESULT[_i][_time][2]\n",
    "    _x3 = NUMBERS3_RESULT[_i][_time][3]\n",
    "    X0.append(int(_x0))\n",
    "    X1.append(int(_x1))\n",
    "    X2.append(int(_x2))\n",
    "    X3.append(int(_x3))\n",
    "    \n",
    "\n",
    "x0 = int(mean(X0))\n",
    "x1 = int(mean(X1))\n",
    "x2 = int(mean(X2))\n",
    "x3 = int(mean(X3))\n",
    "print(x0, x1, x2, x3)\n",
    "\n",
    "# 20180618\n",
    "# data = [float(\"1\"), float(\"1\"), float(\"1\"), float(\"1\")]\n",
    "data = [float(\"50\"), float(\"50\"), float(\"50\"), float(\"50\")]\n",
    "# data = [float(str(x0)), float(str(x1)), float(str(x2)), float(str(x3))]"
   ]
  },
  {
   "cell_type": "code",
   "execution_count": 98,
   "metadata": {},
   "outputs": [
    {
     "data": {
      "text/plain": [
       "['data/numbers3_20180618.pkl']"
      ]
     },
     "execution_count": 98,
     "metadata": {},
     "output_type": "execute_result"
    }
   ],
   "source": [
    "joblib.dump(model, pkl_file)"
   ]
  },
  {
   "cell_type": "code",
   "execution_count": 99,
   "metadata": {},
   "outputs": [],
   "source": [
    "clf = joblib.load(pkl_file)"
   ]
  },
  {
   "cell_type": "code",
   "execution_count": 100,
   "metadata": {},
   "outputs": [],
   "source": [
    "processor = clf.predict([data])"
   ]
  },
  {
   "cell_type": "code",
   "execution_count": 101,
   "metadata": {},
   "outputs": [
    {
     "data": {
      "text/plain": [
       "array([528.48635969])"
      ]
     },
     "execution_count": 101,
     "metadata": {},
     "output_type": "execute_result"
    }
   ],
   "source": [
    "processor"
   ]
  },
  {
   "cell_type": "code",
   "execution_count": null,
   "metadata": {},
   "outputs": [],
   "source": []
  }
 ],
 "metadata": {
  "kernelspec": {
   "display_name": "Python 3",
   "language": "python",
   "name": "python3"
  },
  "language_info": {
   "codemirror_mode": {
    "name": "ipython",
    "version": 3
   },
   "file_extension": ".py",
   "mimetype": "text/x-python",
   "name": "python",
   "nbconvert_exporter": "python",
   "pygments_lexer": "ipython3",
   "version": "3.6.2"
  }
 },
 "nbformat": 4,
 "nbformat_minor": 2
}
