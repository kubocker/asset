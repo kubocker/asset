{
 "cells": [
  {
   "cell_type": "markdown",
   "metadata": {},
   "source": [
    "## インポート"
   ]
  },
  {
   "cell_type": "code",
   "execution_count": 1,
   "metadata": {},
   "outputs": [],
   "source": [
    "from config import (NUMBERS,\n",
    "                                  NUMBERS3,\n",
    "                                  NUMBERS4,\n",
    "                                  NUMBERS3_RESULT,\n",
    "                                  NUMBERS4_RESULT,\n",
    "                                  NUMBERS3_VECTORS)\n",
    "import utils\n",
    "\n",
    "import sys\n",
    "import re\n",
    "import difflib\n",
    "import matplotlib\n",
    "import matplotlib.pyplot as plt\n",
    "import pandas as pd\n",
    "import numpy as np\n",
    "import seaborn as sns\n",
    "from sklearn import linear_model\n",
    "from sklearn.metrics import (mean_absolute_error,\n",
    "                             mean_squared_error,\n",
    "                             r2_score)\n",
    "from sklearn.model_selection import train_test_split\n",
    "from sklearn.externals import joblib\n",
    "\n",
    "plt.rcParams['font.family'] = 'AppleGothic'\n",
    "\n",
    "\n",
    "%load_ext autoreload\n",
    "%autoreload 2"
   ]
  },
  {
   "cell_type": "markdown",
   "metadata": {},
   "source": [
    "##### 調査 その1"
   ]
  },
  {
   "cell_type": "code",
   "execution_count": 3,
   "metadata": {},
   "outputs": [
    {
     "name": "stdout",
     "output_type": "stream",
     "text": [
      "前回:18個, 前々回:28個, 前回曜日:27個, 前々回曜日:18個, 前回六曜:23個, 前々回六曜:20個\n",
      "赤口:0個, 仏滅:0個, 友引:0個 先勝:0個, 先負:134個, 大安:0個\n"
     ]
    }
   ],
   "source": [
    "X = []\n",
    "Y = []\n",
    "Z = []\n",
    "key_0 = 0\n",
    "key_1 = 0\n",
    "key_2 = 0\n",
    "key_3 = 0\n",
    "key_4 = 0\n",
    "key_5 = 0\n",
    "key_6  = 0 #  赤口\n",
    "key_7  = 0 #  仏滅\n",
    "key_8  = 0 #  友引\n",
    "key_9  = 0 #  先勝\n",
    "key_10 = 0 #  先負\n",
    "key_11 = 0 #  大安\n",
    "\n",
    "\"\"\"\n",
    "先勝・友引・先負・仏滅・大安・赤口\n",
    "\"\"\"\n",
    "for _i in range(len(NUMBERS)):\n",
    "    _time = NUMBERS[_i][0]\n",
    "    _y = NUMBERS[_i][2]\n",
    "    _x = NUMBERS3[_i][_time]\n",
    "    _z = NUMBERS[_i][4]\n",
    "    for _k, _v in enumerate(_x):\n",
    "        # if len(list(set(_y) & set(_v))) >= 2:\n",
    "        if len(list(set(_y) & set(_v))) >= 2 and _z == \"先負\":\n",
    "            if _k == 0:\n",
    "                key_0 += 1\n",
    "            elif _k == 1:\n",
    "                key_1 += 1\n",
    "            elif _k == 2:\n",
    "                key_2 += 1\n",
    "            elif _k == 3:\n",
    "                key_3 += 1\n",
    "            elif _k == 4:\n",
    "                key_4 += 1\n",
    "            elif _k == 5:\n",
    "                key_5 += 1\n",
    "                \n",
    "            if _z == \"赤口\":\n",
    "                key_6 += 1\n",
    "            elif _z == \"仏滅\":\n",
    "                key_7 += 1\n",
    "            elif _z == \"友引\":\n",
    "                key_8 += 1\n",
    "            elif _z == \"先勝\":\n",
    "                key_9 += 1\n",
    "            elif _z == \"先負\":\n",
    "                key_10 += 1\n",
    "            elif _z == \"大安\":\n",
    "                key_11 += 1\n",
    "            \n",
    "            \n",
    "            _format = \"{0}回 {1}:{2}({3}) [{4}]\".format(_time, _y, _x[_k], _k, _z)\n",
    "            # print(_time, _y, _v)\n",
    "            # print(_format)\n",
    "            pass\n",
    "_sum     = sum([key_0, key_1, key_2, key_3, key_4, key_5])\n",
    "_format1 = \"前回:{0}個, 前々回:{1}個, 前回曜日:{2}個, 前々回曜日:{3}個, 前回六曜:{4}個, 前々回六曜:{5}個\".format(key_0, key_1, key_2, key_3, key_4, key_5)\n",
    "_format2 = \"赤口:{0}個, 仏滅:{1}個, 友引:{2}個 先勝:{3}個, 先負:{4}個, 大安:{5}個\".format(key_6, key_7, key_8, key_9, key_10, key_11)\n",
    "\n",
    "data = {\n",
    "    \"base\": [key_0, key_1, key_2, key_3, key_4, key_5],\n",
    "    \"old_week\": [key_6, key_7, key_8, key_9, key_10, key_11]\n",
    "}\n",
    "_data = pd.DataFrame(data)\n",
    "print(_format1)\n",
    "print(_format2)\n",
    "\n",
    "# sns.countplot(x=\"old_week\", data=_data)\n"
   ]
  },
  {
   "cell_type": "markdown",
   "metadata": {},
   "source": [
    "### 調査2"
   ]
  },
  {
   "cell_type": "code",
   "execution_count": 19,
   "metadata": {},
   "outputs": [],
   "source": [
    "X = []\n",
    "Y = []\n",
    "Z = []\n",
    "LOCK = {}\n",
    "for _i in range(len(NUMBERS)):\n",
    "    _time = NUMBERS[_i][0]\n",
    "    _y = NUMBERS[_i][2]\n",
    "    _x = NUMBERS3[_i][_time]\n",
    "    lock = []\n",
    "    hook = []\n",
    "    key_0 = 0\n",
    "    key_1 = 0\n",
    "    key_2 = 0\n",
    "    key_3 = 0\n",
    "    key_4 = 0\n",
    "    key_5 = 0\n",
    "    key_6 = 0\n",
    "    key_7 = 0\n",
    "    key_8 = 0\n",
    "    key_9 = 0\n",
    "    for _n in _x:\n",
    "        if _time == _time:\n",
    "            _h = list(_n)\n",
    "            for _j in _h:\n",
    "                if _j == '0':\n",
    "                    key_0 += 1\n",
    "                elif _j == '1':\n",
    "                    key_1 += 1\n",
    "                elif _j == '2':\n",
    "                    key_2 += 1\n",
    "                elif _j == '3':\n",
    "                    key_3 += 1\n",
    "                elif _j == '4':\n",
    "                    key_4 += 1\n",
    "                elif _j == '5':\n",
    "                    key_5 += 1\n",
    "                elif _j == '6':\n",
    "                    key_6 += 1\n",
    "                elif _j == '7':\n",
    "                    key_7 += 1\n",
    "                elif _j == '8':\n",
    "                    key_8 += 1\n",
    "                elif _j == '9':\n",
    "                    key_9 += 1\n",
    "            lock.append(list(_n))\n",
    "    data = {\n",
    "        \"0\": str(int(key_0) + 1),\n",
    "        \"1\": str(int(key_1) + 1),\n",
    "        \"2\": str(int(key_2) + 1),\n",
    "        \"3\": str(int(key_3) + 1),\n",
    "        \"4\": str(int(key_4) + 1),\n",
    "        \"5\": str(int(key_5) + 1),\n",
    "        \"6\": str(int(key_6) + 1),\n",
    "        \"7\": str(int(key_7) + 1),\n",
    "        \"8\": str(int(key_8) + 1),\n",
    "        \"9\": str(int(key_9) + 1),\n",
    "    }\n",
    "    LOCK.update({ _time: [key_0, key_1, key_2, key_3, key_4, key_5, key_6, key_7, key_8, key_9]})\n",
    "    Z.append(data)\n",
    "    X.append(lock)\n",
    "    \n",
    "lock = pd.DataFrame(LOCK)"
   ]
  },
  {
   "cell_type": "markdown",
   "metadata": {},
   "source": [
    "#### 抽選数"
   ]
  },
  {
   "cell_type": "code",
   "execution_count": null,
   "metadata": {},
   "outputs": [],
   "source": [
    "from statistics import mean, median,variance,stdev\n",
    "\n",
    "X0 = []\n",
    "X1 = []\n",
    "X2 = []\n",
    "X3 = []\n",
    "for _i in range(len(NUMBERS3_RESULT)):\n",
    "    _time = NUMBERS[_i][0]\n",
    "    _y = NUMBERS[_i][2]\n",
    "    _x0 = NUMBERS3_RESULT[_i][_time][0]\n",
    "    _x1 = NUMBERS3_RESULT[_i][_time][1]\n",
    "    _x2 = NUMBERS3_RESULT[_i][_time][2]\n",
    "    _x3 = NUMBERS3_RESULT[_i][_time][3]\n",
    "    X0.append(int(_x0))\n",
    "    X1.append(int(_x1))\n",
    "    X2.append(int(_x2))\n",
    "    X3.append(int(_x3))\n",
    "    \n",
    "\n",
    "x0 = int(mean(X0))\n",
    "x1 = int(mean(X1))\n",
    "x2 = int(mean(X2))\n",
    "x3 = int(mean(X3))\n",
    "print(x0, x1, x2, x3)\n",
    "\n",
    "data = [float(str(x0)), float(str(x1)), float(str(x2)), float(str(x3))]"
   ]
  },
  {
   "cell_type": "markdown",
   "metadata": {},
   "source": [
    "### 設定"
   ]
  },
  {
   "cell_type": "code",
   "execution_count": 110,
   "metadata": {},
   "outputs": [],
   "source": [
    "OLD_WEEK = \"先勝\"\n",
    "TYPE            = \"-\""
   ]
  },
  {
   "cell_type": "markdown",
   "metadata": {},
   "source": [
    "#### 特徴量"
   ]
  },
  {
   "cell_type": "code",
   "execution_count": 111,
   "metadata": {},
   "outputs": [],
   "source": [
    "VEC = utils.get_vectors(OLD_WEEK, TYPE, NUMBERS3_VECTORS)"
   ]
  },
  {
   "cell_type": "markdown",
   "metadata": {},
   "source": [
    "#### セット"
   ]
  },
  {
   "cell_type": "code",
   "execution_count": 112,
   "metadata": {},
   "outputs": [],
   "source": [
    "X       = []\n",
    "Y       = []\n",
    "TIME = []\n",
    "k1 = VEC[0]\n",
    "k2 = VEC[1]\n",
    "k3 = VEC[2]"
   ]
  },
  {
   "cell_type": "markdown",
   "metadata": {},
   "source": [
    "#### 計算"
   ]
  },
  {
   "cell_type": "code",
   "execution_count": 203,
   "metadata": {},
   "outputs": [],
   "source": [
    "for _i in range(len(NUMBERS)):\n",
    "    _time = NUMBERS[_i][0]\n",
    "    _y = NUMBERS[_i][2]\n",
    "    _x1 = NUMBERS3[_i][_time][k1]\n",
    "    _x2 = NUMBERS3[_i][_time][k2]\n",
    "    _x3 = NUMBERS3[_i][_time][k3]\n",
    "    _z = NUMBERS[_i][4]\n",
    "    if not len(list(set(_y) & set(_x1))) >= 1 and not len(list(set(_y) & set(_x2))) >= 1 and _z == OLD_WEEK:\n",
    "        Y.append(_y)\n",
    "        X.append([_x1, _x2, _x3])\n",
    "        TIME.append(_time)\n",
    "        pass"
   ]
  },
  {
   "cell_type": "markdown",
   "metadata": {},
   "source": [
    "### 予測スタート"
   ]
  },
  {
   "cell_type": "markdown",
   "metadata": {},
   "source": [
    "###### 20180709"
   ]
  },
  {
   "cell_type": "code",
   "execution_count": 204,
   "metadata": {},
   "outputs": [],
   "source": [
    "pkl_file = \"data/numbers3_20180710.pkl\""
   ]
  },
  {
   "cell_type": "markdown",
   "metadata": {},
   "source": [
    "###### + or -"
   ]
  },
  {
   "cell_type": "code",
   "execution_count": 205,
   "metadata": {},
   "outputs": [],
   "source": [
    "data = [float(\"061\"), float(\"256\"), float(\"751\")]"
   ]
  },
  {
   "cell_type": "code",
   "execution_count": 206,
   "metadata": {},
   "outputs": [],
   "source": [
    "y = pd.DataFrame(Y)\n",
    "x = pd.DataFrame(X)"
   ]
  },
  {
   "cell_type": "code",
   "execution_count": 207,
   "metadata": {},
   "outputs": [
    {
     "data": {
      "text/plain": [
       "910"
      ]
     },
     "execution_count": 207,
     "metadata": {},
     "output_type": "execute_result"
    }
   ],
   "source": [
    "len(y)"
   ]
  },
  {
   "cell_type": "code",
   "execution_count": 208,
   "metadata": {},
   "outputs": [
    {
     "data": {
      "text/plain": [
       "LinearRegression(copy_X=True, fit_intercept=True, n_jobs=1, normalize=False)"
      ]
     },
     "execution_count": 208,
     "metadata": {},
     "output_type": "execute_result"
    }
   ],
   "source": [
    "model = linear_model.LinearRegression()\n",
    "model.fit(X, Y)"
   ]
  },
  {
   "cell_type": "code",
   "execution_count": 209,
   "metadata": {},
   "outputs": [],
   "source": [
    "px = x\n",
    "py = model.predict(px)"
   ]
  },
  {
   "cell_type": "code",
   "execution_count": 210,
   "metadata": {},
   "outputs": [
    {
     "ename": "NameError",
     "evalue": "name 'LOCK' is not defined",
     "output_type": "error",
     "traceback": [
      "\u001b[0;31m---------------------------------------------------------------------------\u001b[0m",
      "\u001b[0;31mNameError\u001b[0m                                 Traceback (most recent call last)",
      "\u001b[0;32m<ipython-input-210-8f387d9a8736>\u001b[0m in \u001b[0;36m<module>\u001b[0;34m()\u001b[0m\n\u001b[1;32m      5\u001b[0m         \u001b[0;32mif\u001b[0m \u001b[0m_v\u001b[0m\u001b[0;34m[\u001b[0m\u001b[0;36m0\u001b[0m\u001b[0;34m]\u001b[0m \u001b[0;34m==\u001b[0m \u001b[0mTIME\u001b[0m\u001b[0;34m[\u001b[0m\u001b[0m_i\u001b[0m\u001b[0;34m]\u001b[0m\u001b[0;34m:\u001b[0m\u001b[0;34m\u001b[0m\u001b[0m\n\u001b[1;32m      6\u001b[0m             \u001b[0;32mif\u001b[0m \u001b[0mlen\u001b[0m\u001b[0;34m(\u001b[0m\u001b[0mlist\u001b[0m\u001b[0;34m(\u001b[0m\u001b[0mset\u001b[0m\u001b[0;34m(\u001b[0m\u001b[0m_v\u001b[0m\u001b[0;34m[\u001b[0m\u001b[0;36m2\u001b[0m\u001b[0;34m]\u001b[0m\u001b[0;34m)\u001b[0m \u001b[0;34m&\u001b[0m \u001b[0mset\u001b[0m\u001b[0;34m(\u001b[0m\u001b[0m_py\u001b[0m\u001b[0;34m)\u001b[0m\u001b[0;34m)\u001b[0m\u001b[0;34m)\u001b[0m \u001b[0;34m>=\u001b[0m \u001b[0;36m2\u001b[0m\u001b[0;34m:\u001b[0m\u001b[0;34m\u001b[0m\u001b[0m\n\u001b[0;32m----> 7\u001b[0;31m                 \u001b[0m_format\u001b[0m \u001b[0;34m=\u001b[0m \u001b[0;34m\"第{0}回: {1}<-{2}   予測:{3}\"\u001b[0m\u001b[0;34m.\u001b[0m\u001b[0mformat\u001b[0m\u001b[0;34m(\u001b[0m\u001b[0mTIME\u001b[0m\u001b[0;34m[\u001b[0m\u001b[0m_i\u001b[0m\u001b[0;34m]\u001b[0m\u001b[0;34m,\u001b[0m \u001b[0m_v\u001b[0m\u001b[0;34m[\u001b[0m\u001b[0;36m2\u001b[0m\u001b[0;34m]\u001b[0m\u001b[0;34m,\u001b[0m \u001b[0mpy\u001b[0m\u001b[0;34m[\u001b[0m\u001b[0m_i\u001b[0m\u001b[0;34m]\u001b[0m\u001b[0;34m,\u001b[0m \u001b[0mLOCK\u001b[0m\u001b[0;34m[\u001b[0m\u001b[0m_v\u001b[0m\u001b[0;34m[\u001b[0m\u001b[0;36m0\u001b[0m\u001b[0;34m]\u001b[0m\u001b[0;34m]\u001b[0m\u001b[0;34m)\u001b[0m\u001b[0;34m\u001b[0m\u001b[0m\n\u001b[0m\u001b[1;32m      8\u001b[0m                 \u001b[0mprint\u001b[0m\u001b[0;34m(\u001b[0m\u001b[0m_format\u001b[0m\u001b[0;34m)\u001b[0m\u001b[0;34m\u001b[0m\u001b[0m\n\u001b[1;32m      9\u001b[0m                 \u001b[0mNUM\u001b[0m\u001b[0;34m.\u001b[0m\u001b[0mappend\u001b[0m\u001b[0;34m(\u001b[0m\u001b[0;34m[\u001b[0m\u001b[0mTIME\u001b[0m\u001b[0;34m[\u001b[0m\u001b[0m_i\u001b[0m\u001b[0;34m]\u001b[0m\u001b[0;34m,\u001b[0m \u001b[0m_v\u001b[0m\u001b[0;34m[\u001b[0m\u001b[0;36m2\u001b[0m\u001b[0;34m]\u001b[0m\u001b[0;34m,\u001b[0m \u001b[0mpy\u001b[0m\u001b[0;34m[\u001b[0m\u001b[0m_i\u001b[0m\u001b[0;34m]\u001b[0m\u001b[0;34m,\u001b[0m \u001b[0mLOCK\u001b[0m\u001b[0;34m[\u001b[0m\u001b[0m_v\u001b[0m\u001b[0;34m[\u001b[0m\u001b[0;36m0\u001b[0m\u001b[0;34m]\u001b[0m\u001b[0;34m]\u001b[0m\u001b[0;34m]\u001b[0m\u001b[0;34m)\u001b[0m\u001b[0;34m\u001b[0m\u001b[0m\n",
      "\u001b[0;31mNameError\u001b[0m: name 'LOCK' is not defined"
     ]
    }
   ],
   "source": [
    "NUM = []\n",
    "for _i in range(len(py)):\n",
    "    _py = str(int(py[_i]))\n",
    "    for _k, _v in enumerate(NUMBERS):\n",
    "        if _v[0] == TIME[_i]:\n",
    "            if len(list(set(_v[2]) & set(_py))) >= 2:\n",
    "                _format = \"第{0}回: {1}<-{2}   予測:{3}\".format(TIME[_i], _v[2], py[_i], LOCK[_v[0]])\n",
    "                print(_format)\n",
    "                NUM.append([TIME[_i], _v[2], py[_i], LOCK[_v[0]]])\n",
    "                pass\n",
    "print(len(NUM))"
   ]
  },
  {
   "cell_type": "markdown",
   "metadata": {},
   "source": [
    "## 決定係数"
   ]
  },
  {
   "cell_type": "code",
   "execution_count": 211,
   "metadata": {},
   "outputs": [
    {
     "data": {
      "text/plain": [
       "0.00903336105866015"
      ]
     },
     "execution_count": 211,
     "metadata": {},
     "output_type": "execute_result"
    }
   ],
   "source": [
    "r2_score(y, py)"
   ]
  },
  {
   "cell_type": "code",
   "execution_count": 212,
   "metadata": {},
   "outputs": [
    {
     "data": {
      "text/plain": [
       "0.00903336105866015"
      ]
     },
     "execution_count": 212,
     "metadata": {},
     "output_type": "execute_result"
    }
   ],
   "source": [
    "model.score(x, y)"
   ]
  },
  {
   "cell_type": "code",
   "execution_count": 213,
   "metadata": {},
   "outputs": [
    {
     "data": {
      "text/plain": [
       "0.0035182071666690897"
      ]
     },
     "execution_count": 213,
     "metadata": {},
     "output_type": "execute_result"
    }
   ],
   "source": [
    "model.coef_[0]"
   ]
  },
  {
   "cell_type": "code",
   "execution_count": 214,
   "metadata": {},
   "outputs": [
    {
     "data": {
      "text/plain": [
       "['data/numbers3_20180710.pkl']"
      ]
     },
     "execution_count": 214,
     "metadata": {},
     "output_type": "execute_result"
    }
   ],
   "source": [
    "joblib.dump(model, pkl_file)"
   ]
  },
  {
   "cell_type": "code",
   "execution_count": 215,
   "metadata": {},
   "outputs": [],
   "source": [
    "clf = joblib.load(pkl_file)"
   ]
  },
  {
   "cell_type": "code",
   "execution_count": 216,
   "metadata": {},
   "outputs": [],
   "source": [
    "processor = clf.predict([data])"
   ]
  },
  {
   "cell_type": "code",
   "execution_count": 217,
   "metadata": {},
   "outputs": [
    {
     "data": {
      "text/plain": [
       "array([515.0514047])"
      ]
     },
     "execution_count": 217,
     "metadata": {},
     "output_type": "execute_result"
    }
   ],
   "source": [
    "processor"
   ]
  },
  {
   "cell_type": "code",
   "execution_count": null,
   "metadata": {},
   "outputs": [],
   "source": []
  }
 ],
 "metadata": {
  "kernelspec": {
   "display_name": "Python 3",
   "language": "python",
   "name": "python3"
  },
  "language_info": {
   "codemirror_mode": {
    "name": "ipython",
    "version": 3
   },
   "file_extension": ".py",
   "mimetype": "text/x-python",
   "name": "python",
   "nbconvert_exporter": "python",
   "pygments_lexer": "ipython3",
   "version": "3.6.2"
  }
 },
 "nbformat": 4,
 "nbformat_minor": 2
}
