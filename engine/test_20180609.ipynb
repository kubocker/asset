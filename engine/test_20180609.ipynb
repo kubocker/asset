{
 "cells": [
  {
   "cell_type": "code",
   "execution_count": 26,
   "metadata": {},
   "outputs": [],
   "source": [
    "from config import NUMBERS, NUMBERS3, NUMBERS4\n",
    "import sys\n",
    "import re\n",
    "import difflib\n",
    "import pandas as pd\n",
    "import numpy as np\n",
    "from sklearn import linear_model\n",
    "from sklearn.metrics import (mean_absolute_error,\n",
    "                             mean_squared_error,\n",
    "                             r2_score)\n",
    "from sklearn.model_selection import train_test_split\n",
    "from sklearn.externals import joblib"
   ]
  },
  {
   "cell_type": "code",
   "execution_count": 27,
   "metadata": {},
   "outputs": [],
   "source": [
    "#　前回"
   ]
  },
  {
   "cell_type": "code",
   "execution_count": 73,
   "metadata": {},
   "outputs": [
    {
     "name": "stdout",
     "output_type": "stream",
     "text": [
      "4919 -> 6485:8659\n",
      "4917 -> 7807:8670\n",
      "4892 -> 3940:4950\n",
      "4890 -> 3794:9304\n",
      "4849 -> 2859:8905\n",
      "4840 -> 0341:3146\n",
      "4796 -> 5863:5360\n",
      "4783 -> 4924:9542\n",
      "4755 -> 2100:5012\n",
      "4740 -> 2738:3702\n",
      "4680 -> 3847:4874\n",
      "4667 -> 7568:8653\n",
      "4602 -> 7328:3877\n",
      "4584 -> 2508:2054\n",
      "4547 -> 3057:8573\n",
      "4529 -> 5314:5831\n",
      "4521 -> 5030:5930\n",
      "4510 -> 1098:8019\n",
      "4505 -> 9427:2964\n",
      "4501 -> 1613:1362\n",
      "4454 -> 4800:4380\n",
      "4442 -> 7982:8872\n",
      "4435 -> 0846:0643\n",
      "4433 -> 7935:3567\n",
      "4420 -> 3629:3659\n",
      "4418 -> 1297:7299\n",
      "4381 -> 1701:7701\n",
      "4377 -> 3744:4735\n",
      "4358 -> 3876:7486\n",
      "4342 -> 3157:5738\n",
      "4323 -> 1492:2489\n",
      "4305 -> 6790:4690\n",
      "4289 -> 1063:6170\n",
      "4285 -> 3619:9603\n",
      "4214 -> 9259:2956\n",
      "4189 -> 4105:5341\n",
      "4184 -> 1564:9461\n",
      "4183 -> 9461:1690\n",
      "4178 -> 8390:3058\n",
      "4152 -> 6910:7901\n",
      "4142 -> 8657:8615\n",
      "4106 -> 2371:7203\n",
      "4104 -> 2469:6459\n",
      "4074 -> 7028:7281\n",
      "4033 -> 2884:7842\n",
      "4030 -> 9450:8954\n",
      "4021 -> 3087:8704\n",
      "3986 -> 4729:7549\n",
      "3966 -> 8547:7748\n",
      "3952 -> 6205:0529\n",
      "3902 -> 5574:2574\n",
      "3889 -> 0594:5946\n",
      "3887 -> 9361:9317\n",
      "3885 -> 1542:5164\n",
      "3876 -> 0538:8590\n"
     ]
    }
   ],
   "source": [
    "X = []\n",
    "Y = []\n",
    "for _i in range(len(NUMBERS)):\n",
    "    _time = NUMBERS[_i][0]\n",
    "    _y = NUMBERS[_i][3]\n",
    "    _x = NUMBERS4[_i][_time][0]\n",
    "    if len(list(set(_y) & set(_x))) >= 3:\n",
    "        Y.append(_y)\n",
    "        X.append(_x)\n",
    "        print(\"{0} -> {1}:{2}\".format(_time, _y, _x))"
   ]
  },
  {
   "cell_type": "code",
   "execution_count": null,
   "metadata": {},
   "outputs": [],
   "source": []
  },
  {
   "cell_type": "code",
   "execution_count": null,
   "metadata": {},
   "outputs": [],
   "source": []
  },
  {
   "cell_type": "code",
   "execution_count": 9,
   "metadata": {},
   "outputs": [
    {
     "data": {
      "text/plain": [
       "390"
      ]
     },
     "execution_count": 9,
     "metadata": {},
     "output_type": "execute_result"
    }
   ],
   "source": [
    "len(Y)"
   ]
  },
  {
   "cell_type": "code",
   "execution_count": null,
   "metadata": {},
   "outputs": [],
   "source": [
    "## 前回六曜"
   ]
  },
  {
   "cell_type": "code",
   "execution_count": 78,
   "metadata": {},
   "outputs": [
    {
     "name": "stdout",
     "output_type": "stream",
     "text": [
      "4923 -> 5468:6485\n",
      "4908 -> 9631:6359\n",
      "4905 -> 0035:0593\n",
      "4878 -> 0015:5510\n",
      "4831 -> 1523:5319\n",
      "4829 -> 5346:4543\n",
      "4817 -> 0991:1920\n",
      "4805 -> 6287:7288\n",
      "4795 -> 5360:6351\n",
      "4791 -> 6351:6135\n",
      "4781 -> 6701:6708\n",
      "4740 -> 2738:7385\n",
      "4699 -> 3997:0973\n",
      "4692 -> 8766:8627\n",
      "4661 -> 2851:5881\n",
      "4636 -> 8667:8576\n",
      "4634 -> 5971:5793\n",
      "4614 -> 8319:9139\n",
      "4602 -> 7328:7837\n",
      "4599 -> 7985:8785\n",
      "4567 -> 7546:4761\n",
      "4549 -> 0261:2150\n",
      "4548 -> 3669:3695\n",
      "4543 -> 1415:5314\n",
      "4540 -> 9817:1097\n",
      "4529 -> 5314:7543\n",
      "4520 -> 5930:0995\n",
      "4484 -> 6869:8699\n",
      "4465 -> 8391:5813\n",
      "4436 -> 7253:3567\n",
      "4434 -> 0643:4406\n",
      "4433 -> 7935:3659\n",
      "4415 -> 3940:9104\n",
      "4388 -> 7439:4735\n",
      "4310 -> 5456:5496\n",
      "4308 -> 5496:4690\n",
      "4292 -> 1370:6170\n",
      "4291 -> 1809:1018\n",
      "4289 -> 1063:3619\n",
      "4276 -> 2953:9395\n",
      "4247 -> 4109:4099\n",
      "4230 -> 5109:5920\n",
      "4189 -> 4105:3104\n",
      "4188 -> 5341:1564\n",
      "4157 -> 6359:6569\n",
      "4153 -> 6569:6950\n",
      "4124 -> 6779:6739\n",
      "4121 -> 8620:6008\n",
      "4114 -> 5046:0542\n",
      "4112 -> 1770:0175\n",
      "4078 -> 2805:7028\n",
      "4077 -> 8312:7281\n",
      "4073 -> 7281:2807\n",
      "4020 -> 8704:7780\n",
      "4008 -> 0621:2604\n",
      "4007 -> 9124:1542\n",
      "4003 -> 1542:1482\n",
      "3956 -> 2602:6205\n",
      "3935 -> 3811:3818\n",
      "3917 -> 8636:1836\n",
      "3880 -> 3870:0538\n",
      "3871 -> 1358:5148\n",
      "3865 -> 1247:7218\n",
      "3828 -> 2395:2963\n",
      "3796 -> 9512:5291\n"
     ]
    }
   ],
   "source": [
    "X = []\n",
    "Y = []\n",
    "for _i in range(len(NUMBERS)):\n",
    "    _time = NUMBERS[_i][0]\n",
    "    _y = NUMBERS[_i][3]\n",
    "    _x = NUMBERS4[_i][_time][4]\n",
    "    if len(list(set(_y) & set(_x))) >= 3:\n",
    "        Y.append(_y)\n",
    "        X.append(_x)\n",
    "        print(\"{0} -> {1}:{2}\".format(_time, _y, _x))"
   ]
  },
  {
   "cell_type": "code",
   "execution_count": null,
   "metadata": {},
   "outputs": [],
   "source": []
  },
  {
   "cell_type": "code",
   "execution_count": 80,
   "metadata": {},
   "outputs": [],
   "source": [
    "X = []\n",
    "Y = []\n",
    "for _i in range(len(NUMBERS)):\n",
    "    _time = NUMBERS[_i][0]\n",
    "    _y = NUMBERS[_i][3]\n",
    "    _x1 = NUMBERS4[_i][_time][4]\n",
    "    _x2 = NUMBERS4[_i][_time][0]\n",
    "    if len(list(set(_y) & set(_x1))) >= 3 or len(list(set(_y) & set(_x2))):\n",
    "        Y.append(_y)\n",
    "        X.append([_x1, _x2])\n",
    "        # print(\"{0} -> {1}:{2}\".format(_time, _y, _x))"
   ]
  },
  {
   "cell_type": "code",
   "execution_count": null,
   "metadata": {},
   "outputs": [],
   "source": []
  },
  {
   "cell_type": "code",
   "execution_count": null,
   "metadata": {},
   "outputs": [],
   "source": []
  },
  {
   "cell_type": "code",
   "execution_count": null,
   "metadata": {},
   "outputs": [],
   "source": []
  },
  {
   "cell_type": "code",
   "execution_count": 81,
   "metadata": {},
   "outputs": [],
   "source": [
    "y = pd.DataFrame(Y)\n",
    "x = pd.DataFrame(X)"
   ]
  },
  {
   "cell_type": "code",
   "execution_count": null,
   "metadata": {},
   "outputs": [],
   "source": []
  },
  {
   "cell_type": "code",
   "execution_count": 82,
   "metadata": {},
   "outputs": [
    {
     "data": {
      "text/plain": [
       "926"
      ]
     },
     "execution_count": 82,
     "metadata": {},
     "output_type": "execute_result"
    }
   ],
   "source": [
    "len(y)"
   ]
  },
  {
   "cell_type": "code",
   "execution_count": null,
   "metadata": {},
   "outputs": [],
   "source": []
  },
  {
   "cell_type": "code",
   "execution_count": 83,
   "metadata": {},
   "outputs": [
    {
     "data": {
      "text/plain": [
       "LinearRegression(copy_X=True, fit_intercept=True, n_jobs=1, normalize=False)"
      ]
     },
     "execution_count": 83,
     "metadata": {},
     "output_type": "execute_result"
    }
   ],
   "source": [
    "model = linear_model.LinearRegression()\n",
    "model.fit(X, Y)"
   ]
  },
  {
   "cell_type": "code",
   "execution_count": null,
   "metadata": {},
   "outputs": [],
   "source": []
  },
  {
   "cell_type": "code",
   "execution_count": 84,
   "metadata": {},
   "outputs": [],
   "source": [
    "px = x\n",
    "py = model.predict(px)"
   ]
  },
  {
   "cell_type": "code",
   "execution_count": null,
   "metadata": {},
   "outputs": [],
   "source": []
  },
  {
   "cell_type": "code",
   "execution_count": 85,
   "metadata": {},
   "outputs": [
    {
     "data": {
      "text/plain": [
       "926"
      ]
     },
     "execution_count": 85,
     "metadata": {},
     "output_type": "execute_result"
    }
   ],
   "source": [
    "len(py)"
   ]
  },
  {
   "cell_type": "code",
   "execution_count": null,
   "metadata": {},
   "outputs": [],
   "source": []
  },
  {
   "cell_type": "code",
   "execution_count": 89,
   "metadata": {},
   "outputs": [
    {
     "name": "stdout",
     "output_type": "stream",
     "text": [
      "9814 4942.0\n",
      "0015 5103.0\n",
      "2675 5260.0\n",
      "2864 5246.0\n",
      "3506 5161.0\n",
      "9751 5190.0\n",
      "8318 5319.0\n",
      "4991 5195.0\n",
      "5360 5137.0\n",
      "2533 5203.0\n",
      "4924 4983.0\n",
      "5012 5133.0\n",
      "0137 5037.0\n",
      "6541 5166.0\n",
      "2851 5142.0\n",
      "2159 5240.0\n",
      "9800 5098.0\n",
      "2508 5287.0\n",
      "3080 5039.0\n",
      "3057 5074.0\n",
      "3695 5317.0\n",
      "5314 5150.0\n",
      "5831 5132.0\n",
      "2964 4993.0\n",
      "1904 5014.0\n",
      "7982 4973.0\n",
      "0643 5047.0\n",
      "3659 5296.0\n",
      "3940 5310.0\n",
      "5028 5279.0\n",
      "5696 5296.0\n",
      "3619 4962.0\n",
      "5231 5014.0\n",
      "5037 5037.0\n",
      "5872 5257.0\n",
      "0175 5061.0\n",
      "1096 5019.0\n",
      "9524 5195.0\n",
      "2457 5248.0\n",
      "0782 5073.0\n",
      "1976 5170.0\n",
      "7780 5088.0\n",
      "7457 5047.0\n",
      "1542 5112.0\n",
      "0581 5281.0\n",
      "1251 5282.0\n",
      "5109 5161.0\n",
      "0593 5131.0\n",
      "6859 5090.0\n",
      "5987 5098.0\n",
      "7321 5127.0\n",
      "7218 5129.0\n",
      "2705 5241.0\n",
      "8749 4957.0\n",
      "7285 5208.0\n",
      "4051 5180.0\n",
      "3750 5327.0\n",
      "3659 5170.0\n",
      "9512 5297.0\n"
     ]
    }
   ],
   "source": [
    "Z = []\n",
    "for _i in range(len(py)):\n",
    "    time = NUMBERS[_i][0]\n",
    "    if len(list(set(Y[_i]) & set(str(int(py[_i]))))) >= 3:\n",
    "        print(Y[_i], round(py[_i],0))\n",
    "        Z.append(py[_i])\n",
    "    # print(Y[_i], round(py[_i],0))"
   ]
  },
  {
   "cell_type": "code",
   "execution_count": null,
   "metadata": {},
   "outputs": [],
   "source": []
  },
  {
   "cell_type": "code",
   "execution_count": null,
   "metadata": {},
   "outputs": [],
   "source": []
  },
  {
   "cell_type": "code",
   "execution_count": null,
   "metadata": {},
   "outputs": [],
   "source": []
  },
  {
   "cell_type": "code",
   "execution_count": null,
   "metadata": {},
   "outputs": [],
   "source": []
  },
  {
   "cell_type": "code",
   "execution_count": null,
   "metadata": {},
   "outputs": [],
   "source": []
  },
  {
   "cell_type": "code",
   "execution_count": 88,
   "metadata": {},
   "outputs": [
    {
     "data": {
      "text/plain": [
       "59"
      ]
     },
     "execution_count": 88,
     "metadata": {},
     "output_type": "execute_result"
    }
   ],
   "source": [
    "len(Z)"
   ]
  },
  {
   "cell_type": "code",
   "execution_count": null,
   "metadata": {},
   "outputs": [],
   "source": []
  }
 ],
 "metadata": {
  "kernelspec": {
   "display_name": "Python 3",
   "language": "python",
   "name": "python3"
  },
  "language_info": {
   "codemirror_mode": {
    "name": "ipython",
    "version": 3
   },
   "file_extension": ".py",
   "mimetype": "text/x-python",
   "name": "python",
   "nbconvert_exporter": "python",
   "pygments_lexer": "ipython3",
   "version": "3.6.2"
  }
 },
 "nbformat": 4,
 "nbformat_minor": 2
}
