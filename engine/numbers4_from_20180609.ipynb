{
 "cells": [
  {
   "cell_type": "markdown",
   "metadata": {},
   "source": [
    "## インポート"
   ]
  },
  {
   "cell_type": "code",
   "execution_count": 52,
   "metadata": {},
   "outputs": [
    {
     "name": "stdout",
     "output_type": "stream",
     "text": [
      "The autoreload extension is already loaded. To reload it, use:\n",
      "  %reload_ext autoreload\n"
     ]
    }
   ],
   "source": [
    "from config import NUMBERS, NUMBERS3, NUMBERS4, NUMBERS4_RESULT\n",
    "import sys\n",
    "import re\n",
    "import difflib\n",
    "import pandas as pd\n",
    "import numpy as np\n",
    "import seaborn as sns\n",
    "from sklearn import linear_model\n",
    "from sklearn.metrics import (mean_absolute_error,\n",
    "                             mean_squared_error,\n",
    "                             r2_score)\n",
    "from sklearn.model_selection import train_test_split\n",
    "from sklearn.externals import joblib\n",
    "\n",
    "%load_ext autoreload\n",
    "%autoreload 2"
   ]
  },
  {
   "cell_type": "markdown",
   "metadata": {},
   "source": [
    "#### NUMBERS4 で予測する"
   ]
  },
  {
   "cell_type": "code",
   "execution_count": 20,
   "metadata": {},
   "outputs": [
    {
     "name": "stdout",
     "output_type": "stream",
     "text": [
      "前回:0個, 前々回:0個, 前回曜日:1個, 前々回曜日:0個, 前回六曜:0個, 前々回六曜:1個\n"
     ]
    }
   ],
   "source": [
    "X = []\n",
    "Y = []\n",
    "key_0 = 0\n",
    "key_1 = 0\n",
    "key_2 = 0\n",
    "key_3 = 0\n",
    "key_4 = 0\n",
    "key_5 = 0\n",
    "\n",
    "key_6  = 0 #  赤口\n",
    "key_7  = 0 #  仏滅\n",
    "key_8  = 0 #  友引\n",
    "key_9  = 0 #  先勝\n",
    "key_10 = 0 #  先負\n",
    "key_11 = 0 #  大安\n",
    "\n",
    "for _i in range(len(NUMBERS)):\n",
    "    _time = NUMBERS[_i][0]\n",
    "    _y = NUMBERS[_i][3]\n",
    "    _x = NUMBERS4[_i][_time]\n",
    "    _z = NUMBERS[_i][4]\n",
    "    for _k, _v in enumerate(_x):\n",
    "        # if len(list(set(_y) & set(_v))) >= 3:\n",
    "        if len(list(set(_y) & set(_v))) >= 4 and _z == \"先負\":\n",
    "            if _k == 0:\n",
    "                key_0 += 1\n",
    "            elif _k == 1:\n",
    "                key_1 += 1\n",
    "            elif _k == 2:\n",
    "                key_2 += 1\n",
    "            elif _k == 3:\n",
    "                key_3 += 1\n",
    "            elif _k == 4:\n",
    "                key_4 += 1\n",
    "            elif _k == 5:\n",
    "                key_5 += 1\n",
    "                \n",
    "            if _z == \"赤口\":\n",
    "                key_6 += 1\n",
    "            elif _z == \"仏滅\":\n",
    "                key_7 += 1\n",
    "            elif _z == \"友引\":\n",
    "                key_8 += 1\n",
    "            elif _z == \"先勝\":\n",
    "                key_9 += 1\n",
    "            elif _z == \"先負\":\n",
    "                key_10 += 1\n",
    "            elif _z == \"大安\":\n",
    "                key_11 += 1\n",
    "            \n",
    "            \n",
    "            _format = \"{0}回 {1}:{2}({3}) [{4}]\".format(_time, _y, _x[_k], _k, _z)\n",
    "            # print(_format)\n",
    "    # Y.append(_y)\n",
    "    # X.append(_x)\n",
    "    pass\n",
    "_format1 = \"前回:{0}個, 前々回:{1}個, 前回曜日:{2}個, 前々回曜日:{3}個, 前回六曜:{4}個, 前々回六曜:{5}個\".format(key_0, key_1, key_2, key_3, key_4, key_5)\n",
    "_format2 = \"赤口:{0}個, 仏滅:{1}個, 友引:{2}個 先勝:{3}個, 先負:{4}個, 大安:{5}個\".format(key_6, key_7, key_8, key_9, key_10, key_11)\n",
    "_sum = sum([key_0, key_1, key_2, key_3, key_4, key_5])\n",
    "\n",
    "print(_format1)"
   ]
  },
  {
   "cell_type": "markdown",
   "metadata": {},
   "source": [
    "#### 1. 前回のナンバーを特徴量とする"
   ]
  },
  {
   "cell_type": "code",
   "execution_count": 32,
   "metadata": {},
   "outputs": [],
   "source": [
    "X = []\n",
    "Y = []\n",
    "for _i in range(len(NUMBERS)):\n",
    "    _time = NUMBERS[_i][0]\n",
    "    _y = NUMBERS[_i][3]\n",
    "    _x = NUMBERS4[_i][_time][0]\n",
    "    if len(list(set(_y) & set(_x))) >= 3:\n",
    "        #print(\"{0} -> {1}:{2}\".format(_time, _y, _x))\n",
    "        Y.append(_y)\n",
    "        X.append([_x])"
   ]
  },
  {
   "cell_type": "markdown",
   "metadata": {},
   "source": [
    "#### 2. 前回の六曜のナンバーを特徴量とする"
   ]
  },
  {
   "cell_type": "code",
   "execution_count": 31,
   "metadata": {},
   "outputs": [],
   "source": [
    "X = []\n",
    "Y = []\n",
    "for _i in range(len(NUMBERS)):\n",
    "    _time = NUMBERS[_i][0]\n",
    "    _y = NUMBERS[_i][3]\n",
    "    _x = NUMBERS4[_i][_time][4]\n",
    "    if len(list(set(_y) & set(_x))) >= 3:\n",
    "        # print(\"{0} -> {1}:{2}\".format(_time, _y, _x))\n",
    "        Y.append(_y)\n",
    "        X.append([_x])"
   ]
  },
  {
   "cell_type": "markdown",
   "metadata": {},
   "source": [
    "#### 3. 前回のナンバーと前回の六曜のナンバーを特徴量とする"
   ]
  },
  {
   "cell_type": "code",
   "execution_count": 35,
   "metadata": {},
   "outputs": [],
   "source": [
    "X = []\n",
    "Y = []\n",
    "for _i in range(len(NUMBERS)):\n",
    "    _time = NUMBERS[_i][0]\n",
    "    _y = NUMBERS[_i][3]\n",
    "    _x1 = NUMBERS4[_i][_time][4]\n",
    "    _x2 = NUMBERS4[_i][_time][0]\n",
    "    if len(list(set(_y) & set(_x1))) >= 3 or len(list(set(_y) & set(_x2))) >= 3:\n",
    "        Y.append(_y)\n",
    "        X.append([_x1, _x2])\n",
    "        # print(\"{0} -> {1}:{2}\".format(_time, _y, _x))"
   ]
  },
  {
   "cell_type": "markdown",
   "metadata": {},
   "source": [
    "#### 4. 前回曜日のナンバーと前回六曜のナンバーを特徴量とする\n"
   ]
  },
  {
   "cell_type": "code",
   "execution_count": 4,
   "metadata": {},
   "outputs": [],
   "source": [
    "X = []\n",
    "Y = []\n",
    "TIME = []\n",
    "for _i in range(len(NUMBERS)):\n",
    "    _time = NUMBERS[_i][0]\n",
    "    _y = NUMBERS[_i][3]\n",
    "    _x1 = NUMBERS4[_i][_time][2]\n",
    "    _x2 = NUMBERS4[_i][_time][4]\n",
    "    _z = NUMBERS[_i][4]\n",
    "    # if len(list(set(_y) & set(_x1))) >= 3 or len(list(set(_y) & set(_x2))) >= 3:\n",
    "    if len(list(set(_y) & set(_x1))) >= 3 or len(list(set(_y) & set(_x2))) >= 3 and _z == \"先負\":\n",
    "        Y.append(_y)\n",
    "        X.append([_x1, _x2])\n",
    "        TIME.append(_time)\n",
    "        pass\n",
    "    # Y.append(_y)\n",
    "    # X.append([_x1, _x2])\n",
    "    # TIME.append(_time)"
   ]
  },
  {
   "cell_type": "markdown",
   "metadata": {},
   "source": [
    "#### 5. 前回曜日のナンバーと前々回六曜のナンバーを特徴量とする"
   ]
  },
  {
   "cell_type": "code",
   "execution_count": 36,
   "metadata": {},
   "outputs": [],
   "source": [
    "X = []\n",
    "Y = []\n",
    "TIME = []\n",
    "for _i in range(len(NUMBERS)):\n",
    "    _time = NUMBERS[_i][0]\n",
    "    _y = NUMBERS[_i][3]\n",
    "    _x1 = NUMBERS4[_i][_time][2]\n",
    "    _x2 = NUMBERS4[_i][_time][5]\n",
    "    _z = NUMBERS[_i][4]\n",
    "    if _z == \"先負\":\n",
    "        Y.append(_y)\n",
    "        X.append([_x1, _x2])\n",
    "        TIME.append(_time)\n",
    "        pass\n",
    "    # Y.append(_y)\n",
    "    # X.append([_x1, _x2])\n",
    "    # TIME.append(_time)"
   ]
  },
  {
   "cell_type": "markdown",
   "metadata": {},
   "source": [
    "#### 6. 抽選数を特徴量とする"
   ]
  },
  {
   "cell_type": "code",
   "execution_count": 2,
   "metadata": {},
   "outputs": [],
   "source": [
    "X = []\n",
    "Y = []\n",
    "TIME = []\n",
    "for _i in range(len(NUMBERS4_RESULT)):\n",
    "    _time = NUMBERS[_i][0]\n",
    "    _y = NUMBERS[_i][3]\n",
    "    _x = NUMBERS4_RESULT[_i][_time]\n",
    "    Y.append(_y)\n",
    "    X.append(_x)\n",
    "    TIME.append(_time)"
   ]
  },
  {
   "cell_type": "code",
   "execution_count": 37,
   "metadata": {},
   "outputs": [],
   "source": [
    "y = pd.DataFrame(Y)\n",
    "x = pd.DataFrame(X)"
   ]
  },
  {
   "cell_type": "code",
   "execution_count": 38,
   "metadata": {},
   "outputs": [
    {
     "data": {
      "text/plain": [
       "192"
      ]
     },
     "execution_count": 38,
     "metadata": {},
     "output_type": "execute_result"
    }
   ],
   "source": [
    "len(y)"
   ]
  },
  {
   "cell_type": "code",
   "execution_count": 39,
   "metadata": {},
   "outputs": [
    {
     "data": {
      "text/plain": [
       "192"
      ]
     },
     "execution_count": 39,
     "metadata": {},
     "output_type": "execute_result"
    }
   ],
   "source": [
    "len(TIME)"
   ]
  },
  {
   "cell_type": "code",
   "execution_count": 40,
   "metadata": {},
   "outputs": [
    {
     "data": {
      "text/plain": [
       "LinearRegression(copy_X=True, fit_intercept=True, n_jobs=1, normalize=False)"
      ]
     },
     "execution_count": 40,
     "metadata": {},
     "output_type": "execute_result"
    }
   ],
   "source": [
    "model = linear_model.LinearRegression()\n",
    "model.fit(X, Y)"
   ]
  },
  {
   "cell_type": "code",
   "execution_count": 41,
   "metadata": {},
   "outputs": [],
   "source": [
    "px = x\n",
    "py = model.predict(px)"
   ]
  },
  {
   "cell_type": "code",
   "execution_count": 42,
   "metadata": {},
   "outputs": [
    {
     "name": "stdout",
     "output_type": "stream",
     "text": [
      "4812 3627 4763.819453447611\n",
      "4808 2348 5428.835650661027\n",
      "4743 7614 4916.249964858621\n",
      "4163 7145 5184.442591167411\n",
      "4081 5096 5089.012516088525\n",
      "4019 0286 5082.041749687637\n",
      "3888 5946 5269.846155413612\n"
     ]
    }
   ],
   "source": [
    "for _i in range(len(py)):\n",
    "    _py = str(int(py[_i]))\n",
    "    for _k, _v in enumerate(NUMBERS):\n",
    "        if _v[0] == TIME[_i]:\n",
    "            if len(list(set(_v[3]) & set(_py))) >= 3:\n",
    "                print(TIME[_i], _v[3], py[_i])\n",
    "            # print(TIME[_i], _v[3], py[_i])"
   ]
  },
  {
   "cell_type": "markdown",
   "metadata": {},
   "source": [
    "## 決定係数"
   ]
  },
  {
   "cell_type": "code",
   "execution_count": 43,
   "metadata": {},
   "outputs": [
    {
     "data": {
      "text/plain": [
       "0.005129711967710615"
      ]
     },
     "execution_count": 43,
     "metadata": {},
     "output_type": "execute_result"
    }
   ],
   "source": [
    "r2_score(y, py)"
   ]
  },
  {
   "cell_type": "code",
   "execution_count": 44,
   "metadata": {},
   "outputs": [
    {
     "data": {
      "text/plain": [
       "0.005129711967710615"
      ]
     },
     "execution_count": 44,
     "metadata": {},
     "output_type": "execute_result"
    }
   ],
   "source": [
    "model.score(x, y)"
   ]
  },
  {
   "cell_type": "code",
   "execution_count": 45,
   "metadata": {},
   "outputs": [
    {
     "data": {
      "text/plain": [
       "0.0512778258656091"
      ]
     },
     "execution_count": 45,
     "metadata": {},
     "output_type": "execute_result"
    }
   ],
   "source": [
    "model.coef_[0]"
   ]
  },
  {
   "cell_type": "markdown",
   "metadata": {},
   "source": [
    "## 予測"
   ]
  },
  {
   "cell_type": "code",
   "execution_count": 46,
   "metadata": {},
   "outputs": [],
   "source": [
    "pkl_file = \"numbers4_20180618_6.pkl\""
   ]
  },
  {
   "cell_type": "markdown",
   "metadata": {},
   "source": [
    "#### 前回ナンバーと前回曜日ナンバー"
   ]
  },
  {
   "cell_type": "code",
   "execution_count": null,
   "metadata": {},
   "outputs": [],
   "source": []
  },
  {
   "cell_type": "markdown",
   "metadata": {},
   "source": [
    "#### 前回曜日ナンバーと前々回六曜ナンバー"
   ]
  },
  {
   "cell_type": "code",
   "execution_count": 47,
   "metadata": {},
   "outputs": [],
   "source": [
    "# data = [float(\"5935\"), float(\"3636\")]\n",
    "data = [float(\"3076\"), float(\"5382\")]"
   ]
  },
  {
   "cell_type": "markdown",
   "metadata": {},
   "source": [
    "#### 抽選数"
   ]
  },
  {
   "cell_type": "code",
   "execution_count": 13,
   "metadata": {},
   "outputs": [
    {
     "name": "stdout",
     "output_type": "stream",
     "text": [
      "22 270 71 1185\n"
     ]
    }
   ],
   "source": [
    "from statistics import mean, median,variance,stdev\n",
    "\n",
    "X0 = []\n",
    "X1 = []\n",
    "X2 = []\n",
    "X3 = []\n",
    "for _i in range(len(NUMBERS4_RESULT)):\n",
    "    _time = NUMBERS[_i][0]\n",
    "    _y = NUMBERS[_i][3]\n",
    "    _x0 = NUMBERS4_RESULT[_i][_time][0]\n",
    "    _x1 = NUMBERS4_RESULT[_i][_time][1]\n",
    "    _x2 = NUMBERS4_RESULT[_i][_time][2]\n",
    "    _x3 = NUMBERS4_RESULT[_i][_time][3]\n",
    "    X0.append(int(_x0))\n",
    "    X1.append(int(_x1))\n",
    "    X2.append(int(_x2))\n",
    "    X3.append(int(_x3))\n",
    "    \n",
    "\n",
    "x0 = int(mean(X0))\n",
    "x1 = int(mean(X1))\n",
    "x2 = int(mean(X2))\n",
    "x3 = int(mean(X3))\n",
    "print(x0, x1, x2, x3)\n",
    "\n",
    "# 20180618\n",
    "# data = [float(\"1\"), float(\"1\"), float(\"1\"), float(\"1\")]\n",
    "data = [float(str(x0)), float(str(x1)), float(str(x2)), float(str(x3))]"
   ]
  },
  {
   "cell_type": "code",
   "execution_count": 48,
   "metadata": {},
   "outputs": [
    {
     "data": {
      "text/plain": [
       "['numbers4_20180618_6.pkl']"
      ]
     },
     "execution_count": 48,
     "metadata": {},
     "output_type": "execute_result"
    }
   ],
   "source": [
    "joblib.dump(model, pkl_file)"
   ]
  },
  {
   "cell_type": "code",
   "execution_count": 49,
   "metadata": {},
   "outputs": [],
   "source": [
    "clf = joblib.load(pkl_file)"
   ]
  },
  {
   "cell_type": "code",
   "execution_count": 50,
   "metadata": {},
   "outputs": [],
   "source": [
    "processor = clf.predict([data])"
   ]
  },
  {
   "cell_type": "code",
   "execution_count": 51,
   "metadata": {},
   "outputs": [
    {
     "data": {
      "text/plain": [
       "array([5075.67352375])"
      ]
     },
     "execution_count": 51,
     "metadata": {},
     "output_type": "execute_result"
    }
   ],
   "source": [
    "processor"
   ]
  },
  {
   "cell_type": "code",
   "execution_count": null,
   "metadata": {},
   "outputs": [],
   "source": []
  }
 ],
 "metadata": {
  "kernelspec": {
   "display_name": "Python 3",
   "language": "python",
   "name": "python3"
  },
  "language_info": {
   "codemirror_mode": {
    "name": "ipython",
    "version": 3
   },
   "file_extension": ".py",
   "mimetype": "text/x-python",
   "name": "python",
   "nbconvert_exporter": "python",
   "pygments_lexer": "ipython3",
   "version": "3.6.2"
  }
 },
 "nbformat": 4,
 "nbformat_minor": 2
}
